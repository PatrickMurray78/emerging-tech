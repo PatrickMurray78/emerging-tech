{
 "cells": [
  {
   "cell_type": "markdown",
   "id": "5ba90f5f-5fa2-458c-897a-b425c7c9fe6b",
   "metadata": {},
   "source": [
    "# Quantum Computing and Classical Computing\n",
    "\n",
    "***"
   ]
  },
  {
   "cell_type": "markdown",
   "id": "b8fb713e-c7a9-488d-9633-a32de6a1e65b",
   "metadata": {},
   "source": [
    "This notebook provides a clear and concise comparison between [Quantum Computing](https://en.wikipedia.org/wiki/Quantum_computing) and [Classical Computing](https://en.wikipedia.org/wiki/Computing).\n",
    "\n",
    "An explanation of [Deutsch's algorithm](https://qiskit.org/textbook/ch-algorithms/deutsch-jozsa.html) with the accompanying code will also be provided. This code will be simulated using [qiskit](https://qiskit.org/)."
   ]
  },
  {
   "cell_type": "markdown",
   "id": "78fe9313-00e1-4893-a4a3-892ab1e6afcc",
   "metadata": {},
   "source": [
    "## What is Quantum Computing?"
   ]
  },
  {
   "cell_type": "markdown",
   "id": "40dbf5c3-7bba-4ca1-887a-a5ef4de8a8a1",
   "metadata": {},
   "source": [
    "Quantum computing is a type of computation that harnesses the collective properties of quantum states, such as superposition, interference and entanglement, to perform calculations.\n",
    "<br><br>\n",
    "Quantum computers are machines that perform quantum computations. These computers use quantum bits, better known as qubits as their basic unit of memory.  \n"
   ]
  },
  {
   "cell_type": "markdown",
   "id": "ebd54c0e-e5d8-40fd-9d19-20632d58e35b",
   "metadata": {},
   "source": [
    "## How does it work?"
   ]
  },
  {
   "cell_type": "markdown",
   "id": "fd204927-8985-4041-a0a8-9b8220298b89",
   "metadata": {},
   "source": [
    "Quantum computers work by substituting the binary \"bits\" of classical computing with \"qubits\". Qubits are made using physical systems, such as the spin of an electron or the orientation of a photon. These systems can be in many different arrangements all at once, a property known as quantum superposition. These qubits can also be linked together using a phenomenon called quantum entanglement. \n",
    "<br><br>\n",
    "The result is that a series of qubits can represent different things simultaneously. Using these qubits, a quantum computer will perform calculations based on the probability of an object's state before it is measured, this means they have the potential to process exponentially more data compared to classical computers."
   ]
  },
  {
   "cell_type": "markdown",
   "id": "e3965a22-07d0-4168-ba2e-90fb14b741ca",
   "metadata": {},
   "source": [
    "## Quantum Computing vs Classical Computing"
   ]
  },
  {
   "cell_type": "markdown",
   "id": "ead92123-4aab-4310-8ada-9981cf2685fa",
   "metadata": {},
   "source": [
    "Quantum computers process information in a fundamentally different way to classical computers. Instead of relying on transistors, which can only represent either the “1” or the “0” of binary information at a single time, quantum computers use qubits, which can represent both 0 and 1 simultaneously.\n",
    "<br><br>\n",
    "A quantum computer’s power grows exponentially in relation to the number of qubits linked together. This differs from a classical computer, which sees its power increase in direct proportion to the number of transistors. This is one reason why quantum computers could eventually handle some types of calculations much better than classical computers.\n",
    "<br><br>\n",
    "Quantum computers are difficult to build,have high error rates and need to  be kept ultracold. Classical computers on the other hand have low error rates and can operate at room temperature.\n",
    "<br><br>\n",
    "Although quantum computers are well suited for tasks like optimization problems, data analysis and simulations, most everyday processing is best handles by classical computers."
   ]
  },
  {
   "cell_type": "markdown",
   "id": "cccc8049-7bb9-44b3-a33f-7ea39d05606c",
   "metadata": {},
   "source": [
    "# Deutsch's Algorithm\n",
    "\n",
    "https://qiskit.org/textbook/ch-algorithms/deutsch-jozsa.html\n",
    "\n",
    "***"
   ]
  },
  {
   "cell_type": "markdown",
   "id": "fd5c5541-ab11-49e7-8956-fb6c92163453",
   "metadata": {},
   "source": [
    "Deutsch's algorithm was the first example of a quantum algorithm that performs better than the best classical algorithm. It showed that there can be advantages to using a quantum computer as a computational tool for specific problems.\n",
    "<br><br>\n",
    "This algorithm is a deterministic quantum algorithm that was first proposed by David Deutsch and Richard Jozsa in 1992."
   ]
  },
  {
   "cell_type": "markdown",
   "id": "1ee137c2-632b-434c-a887-b87de491072c",
   "metadata": {},
   "source": [
    "## Deutsch's Problem"
   ]
  },
  {
   "cell_type": "markdown",
   "id": "8d085070-1615-43db-924c-c54e4ed26a23",
   "metadata": {},
   "source": [
    "In Deutsch's problem, we are given an oracle which is a black box quantum computer that implements some function <b>f</b>. The function takes n-digit binary values as input and produces either a 0 or 1 as output for each value. \n",
    "<br><br>\n",
    "The problem is that the function could be constant meaning all output values are the same (0 or 1) or the function could be balanced meaning roughy half of the inputs should return 0 and the other half should return 1. The task is then to determine if <b>f</b> is constant or balanced by using the oracle."
   ]
  },
  {
   "cell_type": "markdown",
   "id": "9a4012a2-3887-4376-9e68-e54179ede619",
   "metadata": {},
   "source": [
    "## Simulate Deutsch's Algorithm using Qiskit"
   ]
  },
  {
   "cell_type": "markdown",
   "id": "c9af5c03-b589-4409-b712-2e8d3f115e09",
   "metadata": {},
   "source": [
    "Using Qiskit I am going to demonstrate the algorithm in action for Constant and Balanced functions."
   ]
  },
  {
   "cell_type": "code",
   "execution_count": 1,
   "id": "e7d67391-7c30-4d37-8310-9449dd682a32",
   "metadata": {},
   "outputs": [],
   "source": [
    "# Qiskit.\n",
    "import qiskit"
   ]
  },
  {
   "cell_type": "code",
   "execution_count": 2,
   "id": "6a2031ed-7a0a-475d-8fa3-57de70b13449",
   "metadata": {},
   "outputs": [],
   "source": [
    "# Aer Simulator.\n",
    "import qiskit.providers.aer as aer"
   ]
  },
  {
   "cell_type": "code",
   "execution_count": 3,
   "id": "0c276941-606d-4340-b699-eed436c93f5f",
   "metadata": {},
   "outputs": [],
   "source": [
    "# Diagrams.\n",
    "import matplotlib.pyplot as plt"
   ]
  },
  {
   "cell_type": "code",
   "execution_count": 4,
   "id": "1d7ca346-f38d-4d69-a609-6b147efb67cb",
   "metadata": {},
   "outputs": [],
   "source": [
    "# Change pyplot style.\n",
    "plt.style.use('ggplot')"
   ]
  },
  {
   "cell_type": "markdown",
   "id": "4b0a9e85-146e-4942-9c02-58c082f44d62",
   "metadata": {},
   "source": [
    "## Constant Zero Function"
   ]
  },
  {
   "cell_type": "code",
   "execution_count": 5,
   "id": "773fec69-1894-4f86-98f7-09b57f0b3570",
   "metadata": {},
   "outputs": [],
   "source": [
    "# Create a quantum circuit.\n",
    "circuit = qiskit.QuantumCircuit(2, 1)"
   ]
  },
  {
   "cell_type": "code",
   "execution_count": 6,
   "id": "4ce50938-47e3-4583-9bf8-e0d8cb4d2a62",
   "metadata": {},
   "outputs": [
    {
     "data": {
      "text/plain": [
       "<qiskit.circuit.instructionset.InstructionSet at 0x7fb9112c83a0>"
      ]
     },
     "execution_count": 6,
     "metadata": {},
     "output_type": "execute_result"
    }
   ],
   "source": [
    "# Initialise the first qubit to 0.\n",
    "circuit.initialize([1, 0], 0)"
   ]
  },
  {
   "cell_type": "code",
   "execution_count": 7,
   "id": "6ffda562-1d86-4977-8654-04938ddbe084",
   "metadata": {},
   "outputs": [
    {
     "data": {
      "text/plain": [
       "<qiskit.circuit.instructionset.InstructionSet at 0x7fb9112c8610>"
      ]
     },
     "execution_count": 7,
     "metadata": {},
     "output_type": "execute_result"
    }
   ],
   "source": [
    "# Initialise the last qubit to 1.\n",
    "circuit.initialize([0, 1], 1)"
   ]
  },
  {
   "cell_type": "code",
   "execution_count": 8,
   "id": "f49050e4-7816-44db-b49d-d71e391e0810",
   "metadata": {},
   "outputs": [
    {
     "data": {
      "text/plain": [
       "<qiskit.circuit.instructionset.InstructionSet at 0x7fb9112c8940>"
      ]
     },
     "execution_count": 8,
     "metadata": {},
     "output_type": "execute_result"
    }
   ],
   "source": [
    "# Apply a Hadamard gate to the each qubit.\n",
    "circuit.h((0, 1))"
   ]
  },
  {
   "cell_type": "code",
   "execution_count": 9,
   "id": "2d376a0c-263a-4cf1-b978-f7254368534c",
   "metadata": {},
   "outputs": [
    {
     "data": {
      "text/plain": [
       "<qiskit.circuit.instructionset.InstructionSet at 0x7fb9112c8d00>"
      ]
     },
     "execution_count": 9,
     "metadata": {},
     "output_type": "execute_result"
    }
   ],
   "source": [
    "# Identity gate.\n",
    "circuit.i(1)"
   ]
  },
  {
   "cell_type": "code",
   "execution_count": 10,
   "id": "cf46d802-c0d3-4b80-af2e-ac7672df2d1f",
   "metadata": {},
   "outputs": [
    {
     "data": {
      "text/plain": [
       "<qiskit.circuit.instructionset.InstructionSet at 0x7fb9112e7040>"
      ]
     },
     "execution_count": 10,
     "metadata": {},
     "output_type": "execute_result"
    }
   ],
   "source": [
    "# Apply another Hadamard gate to the first qubit.\n",
    "circuit.h(0)"
   ]
  },
  {
   "cell_type": "code",
   "execution_count": 11,
   "id": "cec0b958-9c62-44e8-a95d-4aa00801dd04",
   "metadata": {},
   "outputs": [
    {
     "data": {
      "text/plain": [
       "<qiskit.circuit.instructionset.InstructionSet at 0x7fb9112e74c0>"
      ]
     },
     "execution_count": 11,
     "metadata": {},
     "output_type": "execute_result"
    }
   ],
   "source": [
    "# Measure the first qubit.\n",
    "circuit.measure(0, 0)"
   ]
  },
  {
   "cell_type": "code",
   "execution_count": 12,
   "id": "474f5334-7bcd-41b8-bba5-f0b0f47123c3",
   "metadata": {},
   "outputs": [
    {
     "data": {
      "image/png": "[encoded data removed]",
      "text/plain": [
       "<Figure size 589.054x368.424 with 1 Axes>"
      ]
     },
     "execution_count": 12,
     "metadata": {},
     "output_type": "execute_result"
    }
   ],
   "source": [
    "circuit.draw(output='mpl', scale=1.8)"
   ]
  },
  {
   "cell_type": "code",
   "execution_count": 13,
   "id": "76a4ccda-d68a-4209-abd9-519e1bb006dc",
   "metadata": {},
   "outputs": [],
   "source": [
    "# Create a simulation instance.\n",
    "simulator = aer.QasmSimulator()"
   ]
  },
  {
   "cell_type": "code",
   "execution_count": 14,
   "id": "43553f5f-d05c-4a4d-bb20-0c8cf20b3266",
   "metadata": {},
   "outputs": [],
   "source": [
    "# Compile the circuit in the simulator.\n",
    "compcircuit = qiskit.transpile(circuit, simulator)"
   ]
  },
  {
   "cell_type": "code",
   "execution_count": 15,
   "id": "0b4f1ce1-746e-4bec-96f8-fa46ba62c4cb",
   "metadata": {},
   "outputs": [],
   "source": [
    "# Simulate the circuit 500 times.\n",
    "job = simulator.run(compcircuit, shots=500)"
   ]
  },
  {
   "cell_type": "code",
   "execution_count": 16,
   "id": "3a5f0cbe-b12e-4a03-baf2-33a102879572",
   "metadata": {},
   "outputs": [],
   "source": [
    "# Get the results.\n",
    "results = job.result()"
   ]
  },
  {
   "cell_type": "code",
   "execution_count": 17,
   "id": "499156d8-02f6-408a-babf-fd1f8cebc607",
   "metadata": {},
   "outputs": [
    {
     "data": {
      "text/plain": [
       "{'0': 500}"
      ]
     },
     "execution_count": 17,
     "metadata": {},
     "output_type": "execute_result"
    }
   ],
   "source": [
    "# Show the results count.\n",
    "results.get_counts()"
   ]
  },
  {
   "cell_type": "markdown",
   "id": "24423f57-4460-435c-904e-9e199fd6cc24",
   "metadata": {},
   "source": [
    "## Constant One Function"
   ]
  },
  {
   "cell_type": "code",
   "execution_count": 18,
   "id": "bfc56245-486e-42e2-a259-e1a120ce164f",
   "metadata": {},
   "outputs": [],
   "source": [
    "# Create a quantum circuit.\n",
    "circuit = qiskit.QuantumCircuit(2, 1)"
   ]
  },
  {
   "cell_type": "code",
   "execution_count": 19,
   "id": "76a09c00-da40-4c8d-995d-67bfe8476583",
   "metadata": {},
   "outputs": [
    {
     "data": {
      "text/plain": [
       "<qiskit.circuit.instructionset.InstructionSet at 0x7fb9269089a0>"
      ]
     },
     "execution_count": 19,
     "metadata": {},
     "output_type": "execute_result"
    }
   ],
   "source": [
    "# Initialise the first qubit to 1.\n",
    "circuit.initialize([1, 0], 1)"
   ]
  },
  {
   "cell_type": "code",
   "execution_count": 20,
   "id": "5ca49719-e17c-45b4-b14c-33c1ab7c9bb5",
   "metadata": {},
   "outputs": [
    {
     "data": {
      "text/plain": [
       "<qiskit.circuit.instructionset.InstructionSet at 0x7fb926908520>"
      ]
     },
     "execution_count": 20,
     "metadata": {},
     "output_type": "execute_result"
    }
   ],
   "source": [
    "# Initialise the last qubit to 1.\n",
    "circuit.initialize([0, 1], 1)"
   ]
  },
  {
   "cell_type": "code",
   "execution_count": 21,
   "id": "db5bd7bc-c3fe-4c79-9332-7d3d7c30c2e1",
   "metadata": {},
   "outputs": [
    {
     "data": {
      "text/plain": [
       "<qiskit.circuit.instructionset.InstructionSet at 0x7fb926908730>"
      ]
     },
     "execution_count": 21,
     "metadata": {},
     "output_type": "execute_result"
    }
   ],
   "source": [
    "# Apply a Hadamard gate to each qubit.\n",
    "circuit.h((0, 1))"
   ]
  },
  {
   "cell_type": "code",
   "execution_count": 22,
   "id": "d9d6d3e1-b7f8-4d14-aaaf-7ce577e2f360",
   "metadata": {},
   "outputs": [
    {
     "data": {
      "text/plain": [
       "<qiskit.circuit.instructionset.InstructionSet at 0x7fb926908e50>"
      ]
     },
     "execution_count": 22,
     "metadata": {},
     "output_type": "execute_result"
    }
   ],
   "source": [
    "# Identity gate.\n",
    "circuit.i(1)"
   ]
  },
  {
   "cell_type": "code",
   "execution_count": 23,
   "id": "c35b7911-6a76-4061-b453-e147e67a1f53",
   "metadata": {},
   "outputs": [
    {
     "data": {
      "text/plain": [
       "<qiskit.circuit.instructionset.InstructionSet at 0x7fb92691c0d0>"
      ]
     },
     "execution_count": 23,
     "metadata": {},
     "output_type": "execute_result"
    }
   ],
   "source": [
    "# Apply another Hadamard gate to the first qubit.\n",
    "circuit.h(0)"
   ]
  },
  {
   "cell_type": "code",
   "execution_count": 24,
   "id": "cc7f13b5-639e-461e-a949-0be25e761ec3",
   "metadata": {},
   "outputs": [
    {
     "data": {
      "text/plain": [
       "<qiskit.circuit.instructionset.InstructionSet at 0x7fb92691c250>"
      ]
     },
     "execution_count": 24,
     "metadata": {},
     "output_type": "execute_result"
    }
   ],
   "source": [
    "# Measure the first qubit.\n",
    "circuit.measure(0, 0)"
   ]
  },
  {
   "cell_type": "code",
   "execution_count": 25,
   "id": "c678a9b4-8fee-40dd-8133-05e1a331a3e5",
   "metadata": {},
   "outputs": [
    {
     "data": {
      "image/png": "[encoded data removed]",
      "text/plain": [
       "<Figure size 697.414x368.424 with 1 Axes>"
      ]
     },
     "execution_count": 25,
     "metadata": {},
     "output_type": "execute_result"
    }
   ],
   "source": [
    "circuit.draw(output='mpl', scale=1.8)"
   ]
  },
  {
   "cell_type": "code",
   "execution_count": 26,
   "id": "f7574825-0721-44d0-aef9-8a5d93035163",
   "metadata": {},
   "outputs": [],
   "source": [
    "# Create a simulation instance.\n",
    "simulator = aer.QasmSimulator()"
   ]
  },
  {
   "cell_type": "code",
   "execution_count": 27,
   "id": "e1cd4ddb-c974-45b3-a609-6e073d65534e",
   "metadata": {},
   "outputs": [],
   "source": [
    "# Compile the circuit in the simulator.\n",
    "compcircuit = qiskit.transpile(circuit, simulator)"
   ]
  },
  {
   "cell_type": "code",
   "execution_count": 28,
   "id": "e5ed8e88-615e-4842-9ddc-d768bcc3f798",
   "metadata": {},
   "outputs": [],
   "source": [
    "# Simulate the circuit 500 times.\n",
    "job = simulator.run(compcircuit, shots=500)"
   ]
  },
  {
   "cell_type": "code",
   "execution_count": 29,
   "id": "1a918bb5-80c3-40ee-b4eb-a0380b190b68",
   "metadata": {},
   "outputs": [],
   "source": [
    "# Get the results.\n",
    "results = job.result()"
   ]
  },
  {
   "cell_type": "code",
   "execution_count": 30,
   "id": "5c3760b9-e331-4af3-9ec4-0f8bb1ae8904",
   "metadata": {},
   "outputs": [
    {
     "data": {
      "text/plain": [
       "{'0': 500}"
      ]
     },
     "execution_count": 30,
     "metadata": {},
     "output_type": "execute_result"
    }
   ],
   "source": [
    "# Show the results count.\n",
    "results.get_counts()"
   ]
  },
  {
   "cell_type": "code",
   "execution_count": null,
   "id": "3a556714-50aa-4aa8-80b9-8b0d56720ac1",
   "metadata": {},
   "outputs": [],
   "source": []
  },
  {
   "cell_type": "code",
   "execution_count": null,
   "id": "23817d61-ed84-4ac3-b3c7-584809884265",
   "metadata": {},
   "outputs": [],
   "source": []
  },
  {
   "cell_type": "code",
   "execution_count": null,
   "id": "7d2e02fc-dc70-4499-bb58-3253dc2d03f7",
   "metadata": {},
   "outputs": [],
   "source": []
  },
  {
   "cell_type": "markdown",
   "id": "93d707c6-7abe-4187-a17d-f50f31f57b86",
   "metadata": {
    "tags": []
   },
   "source": [
    "## References\n",
    "1. https://en.wikipedia.org/wiki/Quantum_computing\n",
    "2. https://www.cbinsights.com/research/quantum-computing-classical-computing-comparison-infographic/\n",
    "3. https://qiskit.org/textbook/ch-algorithms/deutsch-jozsa.html"
   ]
  },
  {
   "cell_type": "code",
   "execution_count": null,
   "id": "01d38e67-901c-4ddd-b813-f2a56cda30ff",
   "metadata": {},
   "outputs": [],
   "source": []
  }
 ],
 "metadata": {
  "kernelspec": {
   "display_name": "Python 3 (ipykernel)",
   "language": "python",
   "name": "python3"
  },
  "language_info": {
   "codemirror_mode": {
    "name": "ipython",
    "version": 3
   },
   "file_extension": ".py",
   "mimetype": "text/x-python",
   "name": "python",
   "nbconvert_exporter": "python",
   "pygments_lexer": "ipython3",
   "version": "3.9.7"
  }
 },
 "nbformat": 4,
 "nbformat_minor": 5
}
