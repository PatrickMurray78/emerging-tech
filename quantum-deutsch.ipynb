{
 "cells": [
  {
   "cell_type": "markdown",
   "id": "5ba90f5f-5fa2-458c-897a-b425c7c9fe6b",
   "metadata": {},
   "source": [
    "# Quantum Computing and Classical Computing\n",
    "\n",
    "***"
   ]
  },
  {
   "cell_type": "markdown",
   "id": "b8fb713e-c7a9-488d-9633-a32de6a1e65b",
   "metadata": {},
   "source": [
    "This notebook provides a clear and concise comparison between [Quantum Computing](https://en.wikipedia.org/wiki/Quantum_computing) and [Classical Computing](https://en.wikipedia.org/wiki/Computing).\n",
    "\n",
    "An explanation of [Deutsch's algorithm](https://qiskit.org/textbook/ch-algorithms/deutsch-jozsa.html) with the accompanying code will also be provided. This code will be simulated using [qiskit](https://qiskit.org/)."
   ]
  },
  {
   "cell_type": "markdown",
   "id": "78fe9313-00e1-4893-a4a3-892ab1e6afcc",
   "metadata": {},
   "source": [
    "## What is Quantum Computing?"
   ]
  },
  {
   "cell_type": "markdown",
   "id": "40dbf5c3-7bba-4ca1-887a-a5ef4de8a8a1",
   "metadata": {},
   "source": [
    "Quantum computing is a type of computation that harnesses the collective properties of quantum states, such as superposition, interference and entanglement, to perform calculations.\n",
    "<br><br>\n",
    "Quantum computers are machines that perform quantum computations. These computers use quantum bits, better known as qubits as their basic unit of memory.  \n"
   ]
  },
  {
   "cell_type": "markdown",
   "id": "ebd54c0e-e5d8-40fd-9d19-20632d58e35b",
   "metadata": {},
   "source": [
    "## How does it work?"
   ]
  },
  {
   "cell_type": "markdown",
   "id": "fd204927-8985-4041-a0a8-9b8220298b89",
   "metadata": {},
   "source": [
    "Quantum computers work by substituting the binary \"bits\" of classical computing with \"qubits\". Qubits are made using physical systems, such as the spin of an electron or the orientation of a photon. These systems can be in many different arrangements all at once, a property known as quantum superposition. These qubits can also be linked together using a phenomenon called quantum entanglement. \n",
    "<br><br>\n",
    "The result is that a series of qubits can represent different things simultaneously. Using these qubits, a quantum computer will perform calculations based on the probability of an object's state before it is measured, this means they have the potential to process exponentially more data compared to classical computers."
   ]
  },
  {
   "cell_type": "markdown",
   "id": "e3965a22-07d0-4168-ba2e-90fb14b741ca",
   "metadata": {},
   "source": [
    "## Quantum Computing vs Classical Computing"
   ]
  },
  {
   "cell_type": "markdown",
   "id": "ead92123-4aab-4310-8ada-9981cf2685fa",
   "metadata": {},
   "source": [
    "Quantum computers process information in a fundamentally different way to classical computers. Instead of relying on transistors, which can only represent either the “1” or the “0” of binary information at a single time, quantum computers use qubits, which can represent both 0 and 1 simultaneously.\n",
    "<br><br>\n",
    "A quantum computer’s power grows exponentially in relation to the number of qubits linked together. This differs from a classical computer, which sees its power increase in direct proportion to the number of transistors. This is one reason why quantum computers could eventually handle some types of calculations much better than classical computers.\n",
    "<br><br>\n",
    "Quantum computers are difficult to build,have high error rates and need to  be kept ultracold. Classical computers on the other hand have low error rates and can operate at room temperature.\n",
    "<br><br>\n",
    "Although quantum computers are well suited for tasks like optimization problems, data analysis and simulations, most everyday processing is best handles by classical computers."
   ]
  },
  {
   "cell_type": "code",
   "execution_count": null,
   "id": "9e4726e9-f82e-4098-bde4-31b72d94c1c7",
   "metadata": {},
   "outputs": [],
   "source": []
  },
  {
   "cell_type": "code",
   "execution_count": null,
   "id": "e7d67391-7c30-4d37-8310-9449dd682a32",
   "metadata": {},
   "outputs": [],
   "source": []
  },
  {
   "cell_type": "code",
   "execution_count": null,
   "id": "8074d18c-bab1-46a5-beb6-abadfcc94be9",
   "metadata": {},
   "outputs": [],
   "source": []
  },
  {
   "cell_type": "code",
   "execution_count": null,
   "id": "b5754b3d-c23f-4f10-9c77-08dbc37f87d7",
   "metadata": {},
   "outputs": [],
   "source": []
  },
  {
   "cell_type": "code",
   "execution_count": null,
   "id": "803274ac-272f-41de-88a3-7c5ad7441102",
   "metadata": {},
   "outputs": [],
   "source": []
  },
  {
   "cell_type": "code",
   "execution_count": null,
   "id": "d8cdcb06-c3bf-43f0-9dfa-6e6a0eef3323",
   "metadata": {},
   "outputs": [],
   "source": []
  },
  {
   "cell_type": "code",
   "execution_count": 1,
   "id": "2b8ac729-bae2-4214-ab38-0ade31973f1f",
   "metadata": {},
   "outputs": [],
   "source": [
    "import qiskit"
   ]
  },
  {
   "cell_type": "code",
   "execution_count": null,
   "id": "6a2031ed-7a0a-475d-8fa3-57de70b13449",
   "metadata": {},
   "outputs": [],
   "source": []
  },
  {
   "cell_type": "code",
   "execution_count": null,
   "id": "0c276941-606d-4340-b699-eed436c93f5f",
   "metadata": {},
   "outputs": [],
   "source": []
  },
  {
   "cell_type": "code",
   "execution_count": null,
   "id": "1d7ca346-f38d-4d69-a609-6b147efb67cb",
   "metadata": {},
   "outputs": [],
   "source": []
  },
  {
   "cell_type": "code",
   "execution_count": null,
   "id": "db33d498-7988-47cc-9863-f1b0ebf5c85a",
   "metadata": {},
   "outputs": [],
   "source": []
  },
  {
   "cell_type": "code",
   "execution_count": null,
   "id": "773fec69-1894-4f86-98f7-09b57f0b3570",
   "metadata": {},
   "outputs": [],
   "source": []
  },
  {
   "cell_type": "code",
   "execution_count": null,
   "id": "4ce50938-47e3-4583-9bf8-e0d8cb4d2a62",
   "metadata": {},
   "outputs": [],
   "source": []
  },
  {
   "cell_type": "code",
   "execution_count": null,
   "id": "6ffda562-1d86-4977-8654-04938ddbe084",
   "metadata": {},
   "outputs": [],
   "source": []
  },
  {
   "cell_type": "code",
   "execution_count": null,
   "id": "f49050e4-7816-44db-b49d-d71e391e0810",
   "metadata": {},
   "outputs": [],
   "source": []
  },
  {
   "cell_type": "code",
   "execution_count": null,
   "id": "5782c4e0-89d7-440b-80d9-dd2e9e800881",
   "metadata": {},
   "outputs": [],
   "source": []
  },
  {
   "cell_type": "code",
   "execution_count": null,
   "id": "2d376a0c-263a-4cf1-b978-f7254368534c",
   "metadata": {},
   "outputs": [],
   "source": []
  },
  {
   "cell_type": "code",
   "execution_count": null,
   "id": "cf46d802-c0d3-4b80-af2e-ac7672df2d1f",
   "metadata": {},
   "outputs": [],
   "source": []
  },
  {
   "cell_type": "code",
   "execution_count": null,
   "id": "cec0b958-9c62-44e8-a95d-4aa00801dd04",
   "metadata": {},
   "outputs": [],
   "source": []
  },
  {
   "cell_type": "code",
   "execution_count": null,
   "id": "474f5334-7bcd-41b8-bba5-f0b0f47123c3",
   "metadata": {},
   "outputs": [],
   "source": []
  },
  {
   "cell_type": "markdown",
   "id": "93d707c6-7abe-4187-a17d-f50f31f57b86",
   "metadata": {},
   "source": [
    "## References\n",
    "1. https://en.wikipedia.org/wiki/Quantum_computing\n",
    "2. https://www.cbinsights.com/research/quantum-computing-classical-computing-comparison-infographic/"
   ]
  },
  {
   "cell_type": "code",
   "execution_count": null,
   "id": "01d38e67-901c-4ddd-b813-f2a56cda30ff",
   "metadata": {},
   "outputs": [],
   "source": []
  }
 ],
 "metadata": {
  "kernelspec": {
   "display_name": "Python 3 (ipykernel)",
   "language": "python",
   "name": "python3"
  },
  "language_info": {
   "codemirror_mode": {
    "name": "ipython",
    "version": 3
   },
   "file_extension": ".py",
   "mimetype": "text/x-python",
   "name": "python",
   "nbconvert_exporter": "python",
   "pygments_lexer": "ipython3",
   "version": "3.9.0"
  }
 },
 "nbformat": 4,
 "nbformat_minor": 5
}
