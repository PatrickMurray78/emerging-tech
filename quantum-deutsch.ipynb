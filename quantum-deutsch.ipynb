{
 "cells": [
  {
   "cell_type": "markdown",
   "id": "5ba90f5f-5fa2-458c-897a-b425c7c9fe6b",
   "metadata": {},
   "source": [
    "# Quantum Computing and Deutsch's Algorithm\n",
    "\n",
    "***"
   ]
  },
  {
   "cell_type": "markdown",
   "id": "b8fb713e-c7a9-488d-9633-a32de6a1e65b",
   "metadata": {},
   "source": [
    "This notebook provides a clear and concise comparison between [Quantum Computing](https://en.wikipedia.org/wiki/Quantum_computing) and [Classical Computing](https://en.wikipedia.org/wiki/Computing).\n",
    "\n",
    "An explanation of [Deutsch's algorithm](https://qiskit.org/textbook/ch-algorithms/deutsch-jozsa.html) with the accompanying code will also be provided. This code will be simulated using [qiskit](https://qiskit.org/)."
   ]
  },
  {
   "cell_type": "markdown",
   "id": "f40b02d9-6daf-4a6e-8249-83335af6edb4",
   "metadata": {},
   "source": [
    "***"
   ]
  },
  {
   "cell_type": "markdown",
   "id": "78fe9313-00e1-4893-a4a3-892ab1e6afcc",
   "metadata": {},
   "source": [
    "### What is Quantum Computing?\n",
    "\n",
    "***"
   ]
  },
  {
   "cell_type": "markdown",
   "id": "40dbf5c3-7bba-4ca1-887a-a5ef4de8a8a1",
   "metadata": {},
   "source": [
    "Quantum computing is a type of computation that harnesses the collective properties of quantum states, such as superposition, interference, and entanglement, to perform calculations. The devices that perform quantum computations are known as quantum computers."
   ]
  },
  {
   "cell_type": "markdown",
   "id": "de1e0ed9-4423-4ad4-8d68-38ff9af7beec",
   "metadata": {},
   "source": [
    "### What is Classical Computing?\n",
    "\n",
    "***"
   ]
  },
  {
   "cell_type": "markdown",
   "id": "8bf93966-e18f-4b57-a697-36379b8c821f",
   "metadata": {},
   "source": [
    "Classical computing is another name for binary computing. In this traditional approach to computing, information is stored in bits that are represented logically by either a 0 (off) or a 1 (on)."
   ]
  },
  {
   "cell_type": "markdown",
   "id": "e3965a22-07d0-4168-ba2e-90fb14b741ca",
   "metadata": {},
   "source": [
    "### Quantum Computing vs Classical Computing\n",
    "\n",
    "***"
   ]
  },
  {
   "cell_type": "code",
   "execution_count": 1,
   "id": "2b8ac729-bae2-4214-ab38-0ade31973f1f",
   "metadata": {},
   "outputs": [],
   "source": [
    "import qiskit"
   ]
  },
  {
   "cell_type": "code",
   "execution_count": null,
   "id": "6a2031ed-7a0a-475d-8fa3-57de70b13449",
   "metadata": {},
   "outputs": [],
   "source": []
  }
 ],
 "metadata": {
  "kernelspec": {
   "display_name": "Python 3 (ipykernel)",
   "language": "python",
   "name": "python3"
  },
  "language_info": {
   "codemirror_mode": {
    "name": "ipython",
    "version": 3
   },
   "file_extension": ".py",
   "mimetype": "text/x-python",
   "name": "python",
   "nbconvert_exporter": "python",
   "pygments_lexer": "ipython3",
   "version": "3.9.7"
  }
 },
 "nbformat": 4,
 "nbformat_minor": 5
}
