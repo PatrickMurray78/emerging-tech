{
 "cells": [
  {
   "cell_type": "markdown",
   "id": "5ba90f5f-5fa2-458c-897a-b425c7c9fe6b",
   "metadata": {},
   "source": [
    "# Quantum Computing and Classical Computing\n",
    "\n",
    "***"
   ]
  },
  {
   "cell_type": "markdown",
   "id": "b8fb713e-c7a9-488d-9633-a32de6a1e65b",
   "metadata": {},
   "source": [
    "This notebook provides a clear and concise comparison between [Quantum Computing](https://en.wikipedia.org/wiki/Quantum_computing) and [Classical Computing](https://en.wikipedia.org/wiki/Computing).\n",
    "\n",
    "An explanation of [Deutsch's algorithm](https://qiskit.org/textbook/ch-algorithms/deutsch-jozsa.html) with the accompanying code will also be provided. This code will be simulated using [qiskit](https://qiskit.org/)."
   ]
  },
  {
   "cell_type": "markdown",
   "id": "78fe9313-00e1-4893-a4a3-892ab1e6afcc",
   "metadata": {},
   "source": [
    "## What is Quantum Computing?"
   ]
  },
  {
   "cell_type": "markdown",
   "id": "40dbf5c3-7bba-4ca1-887a-a5ef4de8a8a1",
   "metadata": {},
   "source": [
    "Quantum computing is a type of computation that harnesses the collective properties of quantum states, such as superposition, interference and entanglement, to perform calculations.\n",
    "<br><br>\n",
    "Quantum computers are machines that perform quantum computations. These computers use quantum bits, better known as qubits as their basic unit of memory.  \n"
   ]
  },
  {
   "cell_type": "markdown",
   "id": "ebd54c0e-e5d8-40fd-9d19-20632d58e35b",
   "metadata": {},
   "source": [
    "## How does it work?"
   ]
  },
  {
   "cell_type": "markdown",
   "id": "fd204927-8985-4041-a0a8-9b8220298b89",
   "metadata": {},
   "source": [
    "Quantum computers work by substituting the binary \"bits\" of classical computing with \"qubits\". Qubits are made using physical systems, such as the spin of an electron or the orientation of a photon. These systems can be in many different arrangements all at once, a property known as quantum superposition. These qubits can also be linked together using a phenomenon called quantum entanglement. \n",
    "<br><br>\n",
    "The result is that a series of qubits can represent different things simultaneously. Using these qubits, a quantum computer will perform calculations based on the probability of an object's state before it is measured, this means they have the potential to process exponentially more data compared to classical computers."
   ]
  },
  {
   "cell_type": "markdown",
   "id": "e3965a22-07d0-4168-ba2e-90fb14b741ca",
   "metadata": {},
   "source": [
    "## Quantum Computing vs Classical Computing"
   ]
  },
  {
   "cell_type": "markdown",
   "id": "ead92123-4aab-4310-8ada-9981cf2685fa",
   "metadata": {},
   "source": [
    "Quantum computers process information in a fundamentally different way to classical computers. Instead of relying on transistors, which can only represent either the “1” or the “0” of binary information at a single time, quantum computers use qubits, which can represent both 0 and 1 simultaneously.\n",
    "<br><br>\n",
    "A quantum computer’s power grows exponentially in relation to the number of qubits linked together. This differs from a classical computer, which sees its power increase in direct proportion to the number of transistors. This is one reason why quantum computers could eventually handle some types of calculations much better than classical computers.\n",
    "<br><br>\n",
    "Quantum computers are difficult to build,have high error rates and need to  be kept ultracold. Classical computers on the other hand have low error rates and can operate at room temperature.\n",
    "<br><br>\n",
    "Although quantum computers are well suited for tasks like optimization problems, data analysis and simulations, most everyday processing is best handles by classical computers."
   ]
  },
  {
   "cell_type": "markdown",
   "id": "cccc8049-7bb9-44b3-a33f-7ea39d05606c",
   "metadata": {},
   "source": [
    "# Deutsch's Algorithm\n",
    "\n",
    "https://qiskit.org/textbook/ch-algorithms/deutsch-jozsa.html\n",
    "\n",
    "***"
   ]
  },
  {
   "cell_type": "markdown",
   "id": "fd5c5541-ab11-49e7-8956-fb6c92163453",
   "metadata": {},
   "source": [
    "Deutsch's algorithm was the first example of a quantum algorithm that performs better than the best classical algorithm. It showed that there can be advantages to using a quantum computer as a computational tool for specific problems.\n",
    "<br><br>\n",
    "This algorithm is a deterministic quantum algorithm that was first proposed by David Deutsch and Richard Jozsa in 1992."
   ]
  },
  {
   "cell_type": "markdown",
   "id": "1ee137c2-632b-434c-a887-b87de491072c",
   "metadata": {},
   "source": [
    "## Deutsch's Problem"
   ]
  },
  {
   "cell_type": "markdown",
   "id": "8d085070-1615-43db-924c-c54e4ed26a23",
   "metadata": {},
   "source": [
    "In Deutsch's problem, we are given an oracle which is a black box quantum computer that implements some function <b>f</b>. The function takes n-digit binary values as input and produces either a 0 or 1 as output for each value. \n",
    "<br><br>\n",
    "The problem is that the function could be constant meaning all output values are the same (0 or 1) or the function could be balanced meaning roughy half of the inputs should return 0 and the other half should return 1. The task is then to determine if <b>f</b> is constant or balanced by using the oracle."
   ]
  },
  {
   "cell_type": "markdown",
   "id": "68dcc58e-434f-47c2-ba6e-5999e022b7f2",
   "metadata": {},
   "source": [
    "## Preliminaries\n",
    "\n",
    "***"
   ]
  },
  {
   "cell_type": "markdown",
   "id": "aa203c3a-1f69-44a2-9844-5b153861378d",
   "metadata": {},
   "source": [
    "### Qubits"
   ]
  },
  {
   "cell_type": "markdown",
   "id": "04e8d62b-dece-46ff-82a0-d596476110a2",
   "metadata": {},
   "source": [
    "$|0 \\rangle = \\begin{bmatrix} 1 \\\\ 0 \\end{bmatrix}$\n",
    "\n",
    "$|1 \\rangle = \\begin{bmatrix} 0 \\\\ 1 \\end{bmatrix}$\n",
    "\n",
    "$|\\psi \\rangle = \\begin{bmatrix} \\alpha \\\\ \\beta \\end{bmatrix} = \\alpha |0 \\rangle + \\beta |1 \\rangle$\n",
    "\n",
    "$\\alpha = a + bi \\qquad \\beta = c + di \\qquad a,b,c,d \\in \\mathbb{R}$\n",
    "\n",
    "$\\alpha^2 + \\beta^2 = 1$"
   ]
  },
  {
   "cell_type": "markdown",
   "id": "a4c76f28-2239-4060-a822-584adf5b70f3",
   "metadata": {},
   "source": [
    "### Gates"
   ]
  },
  {
   "cell_type": "markdown",
   "id": "d6c7a610-3587-4a27-9744-22a7bebc78f0",
   "metadata": {},
   "source": [
    "$ H = \\begin{bmatrix} \\frac{1}{\\sqrt{2}} & \\frac{1}{\\sqrt{2}} \\\\ \\frac{1}{\\sqrt{2}} & -\\frac{1}{\\sqrt{2}} \\end{bmatrix} \n",
    "= \\frac{1}{\\sqrt{2}} \\begin{bmatrix} 1 & 1 \\\\ 1 & -1 \\end{bmatrix}$\n",
    "\n",
    "$ H | 0 \\rangle = \\frac{1}{\\sqrt{2}} \\begin{bmatrix} 1 & 1 \\\\ 1 & -1 \\end{bmatrix} \\begin{bmatrix} 1 \\\\ 0 \\end{bmatrix} \n",
    "= \\frac{1}{\\sqrt{2}} \\begin{bmatrix} 1 \\\\ 1 \\end{bmatrix} = \\begin{bmatrix} \\frac{1}{\\sqrt{2}} \\\\ \\frac{1}{\\sqrt{2}} \\end{bmatrix}\n",
    "= | + \\rangle$\n",
    "\n",
    "$ H | 1 \\rangle = \\frac{1}{\\sqrt{2}} \\begin{bmatrix} 1 & 1 \\\\ 1 & -1 \\end{bmatrix} \\begin{bmatrix} 0 \\\\ 1 \\end{bmatrix} \n",
    "= \\frac{1}{\\sqrt{2}} \\begin{bmatrix} 1 \\\\ -1 \\end{bmatrix} = \\begin{bmatrix} \\frac{1}{\\sqrt{2}} \\\\ -\\frac{1}{\\sqrt{2}} \\end{bmatrix}\n",
    "= | - \\rangle$\n",
    "\n",
    "$H^* = H^{-1}$\n",
    "\n",
    "$(a+bi)^* = a - bi$\n",
    "\n",
    "$ I = \\begin{bmatrix} 1 & 0 \\\\ 0 & 1 \\end{bmatrix}$"
   ]
  },
  {
   "cell_type": "markdown",
   "id": "ceb2da3b-4309-4603-8d3a-da78a93ac817",
   "metadata": {},
   "source": [
    "### Measurement"
   ]
  },
  {
   "cell_type": "markdown",
   "id": "684663ba-71e7-4e40-9315-b4a70e1f2c98",
   "metadata": {},
   "source": [
    "$ |\\psi\\rangle = \\begin{bmatrix} \\alpha \\\\ \\beta \\end{bmatrix} \\Leftrightarrow \\langle \\psi | \n",
    "= \\begin{bmatrix} \\alpha^* & \\beta^* \\end{bmatrix}$"
   ]
  },
  {
   "cell_type": "markdown",
   "id": "7db3506f-66dc-4fc4-8f49-2c0b56c8b0ad",
   "metadata": {},
   "source": [
    "#### Probability of Measuring $|0\\rangle$ when in $|+\\rangle$"
   ]
  },
  {
   "cell_type": "markdown",
   "id": "4f2c75a8-1b0e-408c-a66e-a3fe3510532f",
   "metadata": {},
   "source": [
    "$|\\langle 0 | + \\rangle |^2 = |\\langle 0 || + \\rangle |^2 = \\begin{bmatrix} 1 & 0 \\end{bmatrix} \\begin{bmatrix} \\frac{1}{\\sqrt{2}} \\\\ \\frac{1}{\\sqrt{2}} \\end{bmatrix} |^2 = |(1)(\\frac{1}{\\sqrt{2}}) + (0)(\\frac{1}{\\sqrt{2}}) |^2 = (\\frac{1}{\\sqrt{2}})^2 = \\frac{1}{2}$\n",
    "\n",
    "$|a+bi| = \\sqrt{(a+bi)(a-bi)} = \\sqrt{a^2 + b^2}$"
   ]
  },
  {
   "cell_type": "markdown",
   "id": "2b7e7822-79c0-4884-8741-333a9fe7a5d7",
   "metadata": {},
   "source": [
    "#### Probability of Measuring $|1\\rangle$ when in $|-\\rangle$"
   ]
  },
  {
   "cell_type": "markdown",
   "id": "5406d78d-f81d-4b04-ab97-6dc90c1ea160",
   "metadata": {},
   "source": [
    "$|\\langle 1 | - \\rangle |^2 = |\\langle 1 || - \\rangle |^2 = \\begin{bmatrix} 0 & 1 \\end{bmatrix} \\begin{bmatrix} \\frac{1}{\\sqrt{2}} \\\\ -\\frac{1}{\\sqrt{2}} \\end{bmatrix} |^2 = |(0)(\\frac{1}{\\sqrt{2}}) + (1)(-\\frac{1}{\\sqrt{2}}) |^2 = (-\\frac{1}{\\sqrt{2}})^2 = \\frac{1}{2}$"
   ]
  },
  {
   "cell_type": "markdown",
   "id": "cc2a0524-bd1a-4bc8-8533-89c030bab4b8",
   "metadata": {},
   "source": [
    "#### Probability of Measuring $|1\\rangle$ when in $|0\\rangle$"
   ]
  },
  {
   "cell_type": "markdown",
   "id": "f8e211b4-9718-43b1-a0b6-39caf8719659",
   "metadata": {},
   "source": [
    "$|\\langle 1 | 0 \\rangle |^2 == \\begin{bmatrix} 0 & 1 \\end{bmatrix} \\begin{bmatrix} 1 \\\\ 0 \\end{bmatrix} |^2 = |(0)(1) + (1)(0) |^2 = 0$"
   ]
  },
  {
   "cell_type": "code",
   "execution_count": null,
   "id": "85f8e09f-7764-45cd-82d8-ccdf3e8eedee",
   "metadata": {},
   "outputs": [],
   "source": []
  },
  {
   "cell_type": "code",
   "execution_count": null,
   "id": "e18dab13-ca62-40b2-a7e3-02320d60f5e4",
   "metadata": {},
   "outputs": [],
   "source": []
  },
  {
   "cell_type": "markdown",
   "id": "e2b8746e-b586-4bdf-9f6c-93020286b5cb",
   "metadata": {},
   "source": []
  },
  {
   "cell_type": "markdown",
   "id": "9a4012a2-3887-4376-9e68-e54179ede619",
   "metadata": {},
   "source": [
    "## Simulate Deutsch's Algorithm using Qiskit"
   ]
  },
  {
   "cell_type": "markdown",
   "id": "c9af5c03-b589-4409-b712-2e8d3f115e09",
   "metadata": {},
   "source": [
    "Using Qiskit I am going to demonstrate the algorithm in action for Constant and Balanced functions."
   ]
  },
  {
   "cell_type": "code",
   "execution_count": 2,
   "id": "e7d67391-7c30-4d37-8310-9449dd682a32",
   "metadata": {},
   "outputs": [
    {
     "ename": "ModuleNotFoundError",
     "evalue": "No module named 'qiskit'",
     "output_type": "error",
     "traceback": [
      "\u001b[1;31m---------------------------------------------------------------------------\u001b[0m",
      "\u001b[1;31mModuleNotFoundError\u001b[0m                       Traceback (most recent call last)",
      "\u001b[1;32m~\\AppData\\Local\\Temp/ipykernel_9264/1629227101.py\u001b[0m in \u001b[0;36m<module>\u001b[1;34m\u001b[0m\n\u001b[0;32m      1\u001b[0m \u001b[1;31m# Qiskit.\u001b[0m\u001b[1;33m\u001b[0m\u001b[1;33m\u001b[0m\u001b[1;33m\u001b[0m\u001b[0m\n\u001b[1;32m----> 2\u001b[1;33m \u001b[1;32mimport\u001b[0m \u001b[0mqiskit\u001b[0m\u001b[1;33m\u001b[0m\u001b[1;33m\u001b[0m\u001b[0m\n\u001b[0m",
      "\u001b[1;31mModuleNotFoundError\u001b[0m: No module named 'qiskit'"
     ]
    }
   ],
   "source": [
    "# Qiskit.\n",
    "import qiskit"
   ]
  },
  {
   "cell_type": "code",
   "execution_count": null,
   "id": "6a2031ed-7a0a-475d-8fa3-57de70b13449",
   "metadata": {},
   "outputs": [],
   "source": [
    "# Aer Simulator.\n",
    "import qiskit.providers.aer as aer"
   ]
  },
  {
   "cell_type": "code",
   "execution_count": null,
   "id": "0c276941-606d-4340-b699-eed436c93f5f",
   "metadata": {},
   "outputs": [],
   "source": [
    "# Diagrams.\n",
    "import matplotlib.pyplot as plt"
   ]
  },
  {
   "cell_type": "code",
   "execution_count": null,
   "id": "1d7ca346-f38d-4d69-a609-6b147efb67cb",
   "metadata": {},
   "outputs": [],
   "source": [
    "# Change pyplot style.\n",
    "plt.style.use('ggplot')"
   ]
  },
  {
   "cell_type": "markdown",
   "id": "4b0a9e85-146e-4942-9c02-58c082f44d62",
   "metadata": {},
   "source": [
    "## Constant Zero Function"
   ]
  },
  {
   "cell_type": "code",
   "execution_count": null,
   "id": "773fec69-1894-4f86-98f7-09b57f0b3570",
   "metadata": {},
   "outputs": [],
   "source": [
    "# Create a quantum circuit.\n",
    "circuit = qiskit.QuantumCircuit(2, 1)"
   ]
  },
  {
   "cell_type": "code",
   "execution_count": null,
   "id": "4ce50938-47e3-4583-9bf8-e0d8cb4d2a62",
   "metadata": {},
   "outputs": [],
   "source": [
    "# Initialise the first qubit to |0>.\n",
    "circuit.initialize([1, 0], 0)"
   ]
  },
  {
   "cell_type": "code",
   "execution_count": null,
   "id": "6ffda562-1d86-4977-8654-04938ddbe084",
   "metadata": {},
   "outputs": [],
   "source": [
    "# Initialise the second qubit to |1>.\n",
    "circuit.initialize([0, 1], 1)"
   ]
  },
  {
   "cell_type": "code",
   "execution_count": null,
   "id": "f49050e4-7816-44db-b49d-d71e391e0810",
   "metadata": {},
   "outputs": [],
   "source": [
    "# Apply a Hadamard gate to the each qubit.\n",
    "circuit.h((0, 1))"
   ]
  },
  {
   "cell_type": "code",
   "execution_count": null,
   "id": "2d376a0c-263a-4cf1-b978-f7254368534c",
   "metadata": {},
   "outputs": [],
   "source": [
    "# Identity gate.\n",
    "circuit.i(1)"
   ]
  },
  {
   "cell_type": "code",
   "execution_count": null,
   "id": "cf46d802-c0d3-4b80-af2e-ac7672df2d1f",
   "metadata": {},
   "outputs": [],
   "source": [
    "# Apply another Hadamard gate to the first qubit.\n",
    "circuit.h(0)"
   ]
  },
  {
   "cell_type": "code",
   "execution_count": null,
   "id": "cec0b958-9c62-44e8-a95d-4aa00801dd04",
   "metadata": {},
   "outputs": [],
   "source": [
    "# Measure the first qubit.\n",
    "circuit.measure(0, 0)"
   ]
  },
  {
   "cell_type": "code",
   "execution_count": null,
   "id": "474f5334-7bcd-41b8-bba5-f0b0f47123c3",
   "metadata": {},
   "outputs": [],
   "source": [
    "circuit.draw(output='mpl', scale=1.8)"
   ]
  },
  {
   "cell_type": "code",
   "execution_count": null,
   "id": "76a4ccda-d68a-4209-abd9-519e1bb006dc",
   "metadata": {},
   "outputs": [],
   "source": [
    "# Create a simulation instance.\n",
    "simulator = aer.QasmSimulator()"
   ]
  },
  {
   "cell_type": "code",
   "execution_count": null,
   "id": "43553f5f-d05c-4a4d-bb20-0c8cf20b3266",
   "metadata": {},
   "outputs": [],
   "source": [
    "# Compile the circuit in the simulator.\n",
    "compcircuit = qiskit.transpile(circuit, simulator)"
   ]
  },
  {
   "cell_type": "code",
   "execution_count": null,
   "id": "0b4f1ce1-746e-4bec-96f8-fa46ba62c4cb",
   "metadata": {},
   "outputs": [],
   "source": [
    "# Simulate the circuit 500 times.\n",
    "job = simulator.run(compcircuit, shots=500)"
   ]
  },
  {
   "cell_type": "code",
   "execution_count": null,
   "id": "3a5f0cbe-b12e-4a03-baf2-33a102879572",
   "metadata": {},
   "outputs": [],
   "source": [
    "# Get the results.\n",
    "results = job.result()"
   ]
  },
  {
   "cell_type": "code",
   "execution_count": null,
   "id": "499156d8-02f6-408a-babf-fd1f8cebc607",
   "metadata": {},
   "outputs": [],
   "source": [
    "# Show the results count.\n",
    "results.get_counts()"
   ]
  },
  {
   "cell_type": "markdown",
   "id": "24423f57-4460-435c-904e-9e199fd6cc24",
   "metadata": {},
   "source": [
    "## Constant One Function"
   ]
  },
  {
   "cell_type": "code",
   "execution_count": null,
   "id": "bfc56245-486e-42e2-a259-e1a120ce164f",
   "metadata": {},
   "outputs": [],
   "source": [
    "# Create a quantum circuit.\n",
    "circuit = qiskit.QuantumCircuit(2, 1)"
   ]
  },
  {
   "cell_type": "code",
   "execution_count": null,
   "id": "76a09c00-da40-4c8d-995d-67bfe8476583",
   "metadata": {},
   "outputs": [],
   "source": [
    "# Initialise the first qubit to 1.\n",
    "circuit.initialize([1, 0], 1)"
   ]
  },
  {
   "cell_type": "code",
   "execution_count": null,
   "id": "5ca49719-e17c-45b4-b14c-33c1ab7c9bb5",
   "metadata": {},
   "outputs": [],
   "source": [
    "# Initialise the last qubit to 0.\n",
    "circuit.initialize([0, 1], 0)"
   ]
  },
  {
   "cell_type": "code",
   "execution_count": null,
   "id": "db5bd7bc-c3fe-4c79-9332-7d3d7c30c2e1",
   "metadata": {},
   "outputs": [],
   "source": [
    "# Apply a Hadamard gate to each qubit.\n",
    "circuit.h((0, 1))"
   ]
  },
  {
   "cell_type": "code",
   "execution_count": null,
   "id": "d9d6d3e1-b7f8-4d14-aaaf-7ce577e2f360",
   "metadata": {},
   "outputs": [],
   "source": [
    "# Identity gate.\n",
    "circuit.i(1)"
   ]
  },
  {
   "cell_type": "code",
   "execution_count": null,
   "id": "c35b7911-6a76-4061-b453-e147e67a1f53",
   "metadata": {},
   "outputs": [],
   "source": [
    "# Apply another Hadamard gate to the first qubit.\n",
    "circuit.h(0)"
   ]
  },
  {
   "cell_type": "code",
   "execution_count": null,
   "id": "cc7f13b5-639e-461e-a949-0be25e761ec3",
   "metadata": {},
   "outputs": [],
   "source": [
    "# Measure the first qubit.\n",
    "circuit.measure(0, 0)"
   ]
  },
  {
   "cell_type": "code",
   "execution_count": null,
   "id": "c678a9b4-8fee-40dd-8133-05e1a331a3e5",
   "metadata": {},
   "outputs": [],
   "source": [
    "circuit.draw(output='mpl', scale=1.8)"
   ]
  },
  {
   "cell_type": "code",
   "execution_count": null,
   "id": "f7574825-0721-44d0-aef9-8a5d93035163",
   "metadata": {},
   "outputs": [],
   "source": [
    "# Create a simulation instance.\n",
    "simulator = aer.QasmSimulator()"
   ]
  },
  {
   "cell_type": "code",
   "execution_count": null,
   "id": "e1cd4ddb-c974-45b3-a609-6e073d65534e",
   "metadata": {},
   "outputs": [],
   "source": [
    "# Compile the circuit in the simulator.\n",
    "compcircuit = qiskit.transpile(circuit, simulator)"
   ]
  },
  {
   "cell_type": "code",
   "execution_count": null,
   "id": "e5ed8e88-615e-4842-9ddc-d768bcc3f798",
   "metadata": {},
   "outputs": [],
   "source": [
    "# Simulate the circuit 500 times.\n",
    "job = simulator.run(compcircuit, shots=500)"
   ]
  },
  {
   "cell_type": "code",
   "execution_count": null,
   "id": "1a918bb5-80c3-40ee-b4eb-a0380b190b68",
   "metadata": {},
   "outputs": [],
   "source": [
    "# Get the results.\n",
    "results = job.result()"
   ]
  },
  {
   "cell_type": "code",
   "execution_count": null,
   "id": "5c3760b9-e331-4af3-9ec4-0f8bb1ae8904",
   "metadata": {},
   "outputs": [],
   "source": [
    "# Show the results count.\n",
    "results.get_counts()"
   ]
  },
  {
   "cell_type": "markdown",
   "id": "f344743b-7da5-4612-a089-39fcfdaad9bb",
   "metadata": {},
   "source": [
    "## Balanced Function"
   ]
  },
  {
   "cell_type": "code",
   "execution_count": null,
   "id": "23817d61-ed84-4ac3-b3c7-584809884265",
   "metadata": {},
   "outputs": [],
   "source": []
  },
  {
   "cell_type": "code",
   "execution_count": null,
   "id": "7d2e02fc-dc70-4499-bb58-3253dc2d03f7",
   "metadata": {},
   "outputs": [],
   "source": []
  },
  {
   "cell_type": "markdown",
   "id": "93d707c6-7abe-4187-a17d-f50f31f57b86",
   "metadata": {
    "tags": []
   },
   "source": [
    "## References\n",
    "1. https://en.wikipedia.org/wiki/Quantum_computing\n",
    "2. https://www.cbinsights.com/research/quantum-computing-classical-computing-comparison-infographic/\n",
    "3. https://qiskit.org/textbook/ch-algorithms/deutsch-jozsa.html"
   ]
  },
  {
   "cell_type": "code",
   "execution_count": null,
   "id": "01d38e67-901c-4ddd-b813-f2a56cda30ff",
   "metadata": {},
   "outputs": [],
   "source": []
  }
 ],
 "metadata": {
  "kernelspec": {
   "display_name": "Python 3 (ipykernel)",
   "language": "python",
   "name": "python3"
  },
  "language_info": {
   "codemirror_mode": {
    "name": "ipython",
    "version": 3
   },
   "file_extension": ".py",
   "mimetype": "text/x-python",
   "name": "python",
   "nbconvert_exporter": "python",
   "pygments_lexer": "ipython3",
   "version": "3.9.0"
  }
 },
 "nbformat": 4,
 "nbformat_minor": 5
}
