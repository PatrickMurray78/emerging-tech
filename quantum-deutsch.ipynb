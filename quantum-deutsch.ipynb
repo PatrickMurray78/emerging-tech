{
 "cells": [
  {
   "cell_type": "markdown",
   "id": "5ba90f5f-5fa2-458c-897a-b425c7c9fe6b",
   "metadata": {},
   "source": [
    "# Quantum Computing and Classical Computing\n",
    "\n",
    "***"
   ]
  },
  {
   "cell_type": "markdown",
   "id": "b8fb713e-c7a9-488d-9633-a32de6a1e65b",
   "metadata": {},
   "source": [
    "This notebook provides a clear and concise comparison between [Quantum Computing](https://en.wikipedia.org/wiki/Quantum_computing) and [Classical Computing](https://en.wikipedia.org/wiki/Computing).\n",
    "\n",
    "An explanation of [Deutsch's algorithm](https://qiskit.org/textbook/ch-algorithms/deutsch-jozsa.html) with the accompanying code will also be provided. This code will be simulated using [qiskit](https://qiskit.org/)."
   ]
  },
  {
   "cell_type": "markdown",
   "id": "78fe9313-00e1-4893-a4a3-892ab1e6afcc",
   "metadata": {},
   "source": [
    "## What is Quantum Computing?"
   ]
  },
  {
   "cell_type": "markdown",
   "id": "40dbf5c3-7bba-4ca1-887a-a5ef4de8a8a1",
   "metadata": {},
   "source": [
    "Quantum computing is a type of computation that harnesses the collective properties of quantum states, such as superposition, interference and entanglement, to perform calculations.\n",
    "\n",
    "Quantum computers are machines that perform quantum computations. These computers use quantum bits, better known as qubits as their basic unit of memory.\n",
    "\n",
    "Below is an example of a quantum computer, you can see straight away there is a big difference with how this looks compared to what you may have at home.\n",
    "\n",
    "<img src=\"./images/quantum-computer.jpg\" width=\"350\"/>"
   ]
  },
  {
   "cell_type": "markdown",
   "id": "ebd54c0e-e5d8-40fd-9d19-20632d58e35b",
   "metadata": {},
   "source": [
    "## How does it work?"
   ]
  },
  {
   "cell_type": "markdown",
   "id": "fd204927-8985-4041-a0a8-9b8220298b89",
   "metadata": {},
   "source": [
    "Quantum computers work by substituting the binary \"bits\" of classical computing with \"qubits\". Qubits are made using physical systems, such as the spin of an electron or the orientation of a photon. \n",
    "\n",
    "These systems can be in many different arrangements all at once, a property known as quantum [superposition](https://en.wikipedia.org/wiki/Quantum_superposition). \n",
    "\n",
    "These qubits can also be linked together using a phenomenon called quantum [entanglement](https://en.wikipedia.org/wiki/Quantum_entanglement) no matter how far apart they are in space, their states remain linked. That means they share a common, unified quantum state. \n",
    "\n",
    "The result is that a series of qubits can represent different things simultaneously. Using these qubits, a quantum computer will perform calculations based on the probability of an object's state before it is measured, this means they have the potential to process exponentially more data compared to classical computers."
   ]
  },
  {
   "cell_type": "markdown",
   "id": "e3965a22-07d0-4168-ba2e-90fb14b741ca",
   "metadata": {},
   "source": [
    "## Quantum Computing vs Classical Computing"
   ]
  },
  {
   "cell_type": "markdown",
   "id": "ead92123-4aab-4310-8ada-9981cf2685fa",
   "metadata": {},
   "source": [
    "I think it is safe to say most of us know what a classical computer is. We have used and seen one thousands of times, so I will compare quantum computing to classical rather than explaining classical computing, but if you would like more information on classical computing you can go [here](https://whatis.techtarget.com/definition/classical-computing#:~:text=Classical%20computing%20is%20another%20name,or%20a%201%20(on).&text=A%20classical%20bit%20is%20either,a%20condition%20known%20as%20superposition). \n",
    "\n",
    "Quantum computers process information in a fundamentally different way to classical computers. Instead of relying on transistors, which can only represent either the “1” or the “0” of binary information at a single time, quantum computers use qubits, which can represent both 0 and 1 simultaneously.\n",
    "\n",
    "A quantum computer’s power grows exponentially in relation to the number of qubits linked together. This differs from a classical computer, which sees its power increase in direct proportion to the number of transistors. This is one reason why quantum computers could eventually handle some types of calculations much better than classical computers.\n",
    "\n",
    "Quantum computers are difficult to build,have high error rates and need to  be kept ultracold. Classical computers on the other hand have low error rates and can operate at room temperature.\n",
    "\n",
    "Although quantum computers are well suited for tasks like optimization problems, data analysis and simulations, most everyday processing is best handled by classical computers."
   ]
  },
  {
   "cell_type": "markdown",
   "id": "cccc8049-7bb9-44b3-a33f-7ea39d05606c",
   "metadata": {},
   "source": [
    "# Deutsch's Algorithm\n",
    "\n",
    "https://qiskit.org/textbook/ch-algorithms/deutsch-jozsa.html\n",
    "\n",
    "***"
   ]
  },
  {
   "cell_type": "markdown",
   "id": "fd5c5541-ab11-49e7-8956-fb6c92163453",
   "metadata": {},
   "source": [
    "Deutsch's algorithm was the first example of a quantum algorithm that performs better than the best classical algorithm. It showed that there can be advantages to using a quantum computer as a computational tool for specific problems.\n",
    "<br><br>\n",
    "This algorithm is a deterministic quantum algorithm that was first proposed by David Deutsch and Richard Jozsa in 1992."
   ]
  },
  {
   "cell_type": "markdown",
   "id": "1ee137c2-632b-434c-a887-b87de491072c",
   "metadata": {},
   "source": [
    "## Deutsch's Problem"
   ]
  },
  {
   "cell_type": "markdown",
   "id": "8d085070-1615-43db-924c-c54e4ed26a23",
   "metadata": {},
   "source": [
    "In Deutsch's problem, we are given an oracle which is a black box quantum computer that implements some function <b>f</b>. The function takes n-digit binary values as input and produces either a 0 or 1 as output for each value. \n",
    "<br><br>\n",
    "The problem is that the function could be constant meaning all output values are the same (0 or 1) or the function could be balanced meaning roughy half of the inputs should return 0 and the other half should return 1. The task is then to determine if <b>f</b> is constant or balanced by using the oracle."
   ]
  },
  {
   "cell_type": "markdown",
   "id": "68dcc58e-434f-47c2-ba6e-5999e022b7f2",
   "metadata": {},
   "source": [
    "## Preliminaries\n",
    "\n",
    "***"
   ]
  },
  {
   "cell_type": "markdown",
   "id": "aa203c3a-1f69-44a2-9844-5b153861378d",
   "metadata": {},
   "source": [
    "### Qubits"
   ]
  },
  {
   "cell_type": "markdown",
   "id": "04e8d62b-dece-46ff-82a0-d596476110a2",
   "metadata": {},
   "source": [
    "<i>By default, all qubits are initialized to the $|0\\rangle$ state</i>.\n",
    "\n",
    "$|0 \\rangle = \\begin{bmatrix} 1 \\\\ 0 \\end{bmatrix}$\n",
    "\n",
    "$|1 \\rangle = \\begin{bmatrix} 0 \\\\ 1 \\end{bmatrix}$\n",
    "\n",
    "<i>Psi represents all the possibilities that a quantum object, like an electron can take across time and space</i>.\n",
    "<br>\n",
    "<i>$\\alpha$ and $\\beta$ are both complex numbers.\n",
    "\n",
    "$|\\psi \\rangle = \\begin{bmatrix} \\alpha \\\\ \\beta \\end{bmatrix} = \\alpha |0 \\rangle + \\beta |1 \\rangle$\n",
    "\n",
    "$\\alpha = a + bi \\qquad \\beta = c + di \\qquad a,b,c,d \\in \\mathbb{R}$\n",
    "\n",
    "$\\alpha^2 + \\beta^2 = 1$"
   ]
  },
  {
   "cell_type": "markdown",
   "id": "a4c76f28-2239-4060-a822-584adf5b70f3",
   "metadata": {},
   "source": [
    "### Gates"
   ]
  },
  {
   "cell_type": "markdown",
   "id": "3e81c09f-1fb0-4615-9444-78d6c46055cd",
   "metadata": {},
   "source": [
    "<i>Gates are always 2x2 Matrices for a single qubit</i>"
   ]
  },
  {
   "cell_type": "markdown",
   "id": "9250500f-578a-41bb-b42d-cceef5cc66b0",
   "metadata": {},
   "source": [
    "#### Hadamard Gate"
   ]
  },
  {
   "cell_type": "markdown",
   "id": "d6c7a610-3587-4a27-9744-22a7bebc78f0",
   "metadata": {},
   "source": [
    "<i>The Hadamard gate is defined as follows: it turns $|0\\rangle$ into $(|0\\rangle+|1\\rangle)/2$ and $|1\\rangle$ into $(|0\\rangle+|1\\rangle)/2$.</i><br>\n",
    "$ H = \\begin{bmatrix} \\frac{1}{\\sqrt{2}} & \\frac{1}{\\sqrt{2}} \\\\ \\frac{1}{\\sqrt{2}} & -\\frac{1}{\\sqrt{2}} \\end{bmatrix} \n",
    "= \\frac{1}{\\sqrt{2}} \\begin{bmatrix} 1 & 1 \\\\ 1 & -1 \\end{bmatrix}$\n",
    "\n",
    "<i>Apple the Hadamard Gate to qubit 0</i><br>\n",
    "$ H | 0 \\rangle = \\frac{1}{\\sqrt{2}} \\begin{bmatrix} 1 & 1 \\\\ 1 & -1 \\end{bmatrix} \\begin{bmatrix} 1 \\\\ 0 \\end{bmatrix} \n",
    "= \\frac{1}{\\sqrt{2}} \\begin{bmatrix} 1 \\\\ 1 \\end{bmatrix} = \\begin{bmatrix} \\frac{1}{\\sqrt{2}} \\\\ \\frac{1}{\\sqrt{2}} \\end{bmatrix}\n",
    "= | + \\rangle$\n",
    "\n",
    "<i>Apply the Hadamard gate to qubit 1</i><br>\n",
    "$ H | 1 \\rangle = \\frac{1}{\\sqrt{2}} \\begin{bmatrix} 1 & 1 \\\\ 1 & -1 \\end{bmatrix} \\begin{bmatrix} 0 \\\\ 1 \\end{bmatrix} \n",
    "= \\frac{1}{\\sqrt{2}} \\begin{bmatrix} 1 \\\\ -1 \\end{bmatrix} = \\begin{bmatrix} \\frac{1}{\\sqrt{2}} \\\\ -\\frac{1}{\\sqrt{2}} \\end{bmatrix}\n",
    "= | - \\rangle$\n",
    "\n",
    "<i>$H^*$ is a conjugate transpose. This means we create a new matrix where the rows from the last matrix are now columns and the columns from the last matrix are now rows (transposing), which allows us to validate a gate</i><br>\n",
    "$H^* = H^{-1}$\n",
    "\n",
    "$(a+bi)^* = a - bi$\n",
    "\n",
    "#### Identity Gate\n",
    "\n",
    "<i>The Identity gate is a single-qubit operation that leaves the basis states $|0\\rangle$ and $|1\\rangle$ unchanged.</i><br>\n",
    "$ I = \\begin{bmatrix} 1 & 0 \\\\ 0 & 1 \\end{bmatrix}$"
   ]
  },
  {
   "cell_type": "markdown",
   "id": "ceb2da3b-4309-4603-8d3a-da78a93ac817",
   "metadata": {},
   "source": [
    "### Measurement"
   ]
  },
  {
   "cell_type": "markdown",
   "id": "684663ba-71e7-4e40-9315-b4a70e1f2c98",
   "metadata": {},
   "source": [
    "<i>Measure the states</i><br>\n",
    "$ |\\psi\\rangle = \\begin{bmatrix} \\alpha \\\\ \\beta \\end{bmatrix} \\Leftrightarrow \\langle \\psi | \n",
    "= \\begin{bmatrix} \\alpha^* & \\beta^* \\end{bmatrix}$"
   ]
  },
  {
   "cell_type": "markdown",
   "id": "7db3506f-66dc-4fc4-8f49-2c0b56c8b0ad",
   "metadata": {},
   "source": [
    "#### Probability of Measuring $|0\\rangle$ when in $|+\\rangle$"
   ]
  },
  {
   "cell_type": "markdown",
   "id": "4f2c75a8-1b0e-408c-a66e-a3fe3510532f",
   "metadata": {},
   "source": [
    "<i>If we are in the $|+\\rangle$ state, the probability it is 0 is $\\frac{1}{2}$<br>\n",
    "$|\\langle 0 | + \\rangle |^2 = |\\langle 0 || + \\rangle |^2 = \\begin{bmatrix} 1 & 0 \\end{bmatrix} \\begin{bmatrix} \\frac{1}{\\sqrt{2}} \\\\ \\frac{1}{\\sqrt{2}} \\end{bmatrix} |^2 = |(1)(\\frac{1}{\\sqrt{2}}) + (0)(\\frac{1}{\\sqrt{2}}) |^2 = (\\frac{1}{\\sqrt{2}})^2 = \\frac{1}{2}$\n",
    "\n",
    "$|a+bi| = \\sqrt{(a+bi)(a-bi)} = \\sqrt{a^2 + b^2}$"
   ]
  },
  {
   "cell_type": "markdown",
   "id": "2b7e7822-79c0-4884-8741-333a9fe7a5d7",
   "metadata": {},
   "source": [
    "#### Probability of Measuring $|1\\rangle$ when in $|-\\rangle$"
   ]
  },
  {
   "cell_type": "markdown",
   "id": "5406d78d-f81d-4b04-ab97-6dc90c1ea160",
   "metadata": {},
   "source": [
    "<i>If we are in the $|-\\rangle$ state, the probability it is 1 is $\\frac{1}{2}$</i><br>\n",
    "$|\\langle 1 | - \\rangle |^2 = |\\langle 1 || - \\rangle |^2 = \\begin{bmatrix} 0 & 1 \\end{bmatrix} \\begin{bmatrix} \\frac{1}{\\sqrt{2}} \\\\ -\\frac{1}{\\sqrt{2}} \\end{bmatrix} |^2 = |(0)(\\frac{1}{\\sqrt{2}}) + (1)(-\\frac{1}{\\sqrt{2}}) |^2 = (-\\frac{1}{\\sqrt{2}})^2 = \\frac{1}{2}$"
   ]
  },
  {
   "cell_type": "markdown",
   "id": "cc2a0524-bd1a-4bc8-8533-89c030bab4b8",
   "metadata": {},
   "source": [
    "#### Probability of Measuring $|1\\rangle$ when in $|0\\rangle$"
   ]
  },
  {
   "cell_type": "markdown",
   "id": "f8e211b4-9718-43b1-a0b6-39caf8719659",
   "metadata": {},
   "source": [
    "<i>The probability of meaning one when in the other state is 0</i><br>\n",
    "$|\\langle 1 | 0 \\rangle |^2 == \\begin{bmatrix} 0 & 1 \\end{bmatrix} \\begin{bmatrix} 1 \\\\ 0 \\end{bmatrix} |^2 = |(0)(1) + (1)(0) |^2 = 0$"
   ]
  },
  {
   "cell_type": "markdown",
   "id": "d6f32694-2b4f-4206-bd29-bfa4ae03c3a1",
   "metadata": {},
   "source": [
    "### Multiple Qubits"
   ]
  },
  {
   "cell_type": "markdown",
   "id": "c8822733-2b9c-427e-b0be-71b41e98e43e",
   "metadata": {},
   "source": [
    "<i>Multiple qubits are represented using the [Kroneker product](https://en.wikipedia.org/wiki/Kronecker_product)."
   ]
  },
  {
   "cell_type": "markdown",
   "id": "a52cbc45-4483-4527-a4a4-9f52759c9b63",
   "metadata": {},
   "source": [
    "First qubit: $|0\\rangle = \\begin{bmatrix} 1 \\\\ 0 \\end{bmatrix}$\n",
    "\n",
    "Second qubit: $|1\\rangle = \\begin{bmatrix} 0 \\\\ 1 \\end{bmatrix}$\n",
    "\n",
    "<i>Multply the first and second matrix to get the combined result</i><br>\n",
    "Together: $|01\\rangle = \\begin{bmatrix} 1 \\begin{bmatrix} 0 \\\\ 1 \\end{bmatrix} \\\\ 0 \\begin{bmatrix} 0 \\\\ 1 \\end{bmatrix} \\end{bmatrix} = \\begin{bmatrix} (1)(0) \\\\ (1)(1) \\\\ (0)(1) \\\\ (0)(0) \\end{bmatrix} = \\begin{bmatrix} 0 \\\\ 1 \\\\ 0 \\\\ 0 \\end{bmatrix}$"
   ]
  },
  {
   "cell_type": "markdown",
   "id": "da71000a-c4de-4a45-b45e-aa9ac678a63a",
   "metadata": {},
   "source": [
    "#### CNOT Gate"
   ]
  },
  {
   "cell_type": "markdown",
   "id": "f82dbb56-e6dd-4818-97c7-e50dec564b2a",
   "metadata": {},
   "source": [
    "<i>The CNOT gate is two-qubit operation, where the first qubit is usually referred to as the control qubit and the second qubit as the target qubit.</i><br>\n",
    "$CNOT = \\begin{bmatrix} 1 & 0 & 0 & 0 \\\\ 0 & 1 & 0 & 0 \\\\ 0 & 0 & 0 & 1 \\\\ 0 & 0 & 1 & 0 \\end{bmatrix}$"
   ]
  },
  {
   "cell_type": "markdown",
   "id": "3781bf22-c82d-403c-aa3e-ca2e7da0b20a",
   "metadata": {},
   "source": [
    "<i>If the qubits are $|01\\rangle$, nothing happens.</i><br>\n",
    "$CNOT \\times |01\\rangle = \\begin{bmatrix} 1 & 0 & 0 & 0 \\\\ 0 & 1 & 0 & 0 \\\\ 0 & 0 & 0 & 1 \\\\ 0 & 0 & 1 & 0 \\end{bmatrix} \\begin{bmatrix} 0 \\\\ 1 \\\\ 0 \\\\ 0 \\end{bmatrix} = \\begin{bmatrix} 0 \\\\ 1 \\\\ 0 \\\\ 0 \\end{bmatrix} = |01\\rangle$"
   ]
  },
  {
   "cell_type": "markdown",
   "id": "30a4cc72-c1e5-450c-afb2-aceb58918ccd",
   "metadata": {},
   "source": [
    "<i>If the qubits are $|10\\rangle$, the bottom two numbers get swapped around in thefinal 1x4 matrix.</i><br>\n",
    "$CNOT \\times |10\\rangle = |0\\rangle \\bigotimes |1\\rangle = \\begin{bmatrix} 1 & 0 & 0 & 0 \\\\ 0 & 1 & 0 & 0 \\\\ 0 & 0 & 0 & 1 \\\\ 0 & 0 & 1 & 0 \\end{bmatrix} \\begin{bmatrix} 0 \\\\ 0 \\\\ 1 \\\\ 0 \\end{bmatrix} = \\begin{bmatrix} 0 \\\\ 0 \\\\ 0 \\\\ 1 \\end{bmatrix} = |11\\rangle$"
   ]
  },
  {
   "cell_type": "markdown",
   "id": "54591217-05da-499d-8f7e-bee2f5797740",
   "metadata": {},
   "source": [
    "#### H followed by CNOT"
   ]
  },
  {
   "cell_type": "markdown",
   "id": "4146d515-a5f8-4624-bf4b-79022dd12cc2",
   "metadata": {},
   "source": [
    "<i>This is just an example of the Kroneker product of two matrices, in this case it is two Hadamard gates.</i><br>\n",
    "$H \\bigotimes H = \\begin{bmatrix} \\frac{1}{\\sqrt{2}} \\begin{bmatrix} \\frac{1}{\\sqrt{2}} & \\frac{1}{\\sqrt{2}} \\\\ \\frac{1}{\\sqrt{2}} & -\\frac{1}{\\sqrt{2}} \\end{bmatrix} &\\frac{1}{\\sqrt{2}} \\begin{bmatrix} \\frac{1}{\\sqrt{2}} & \\frac{1}{\\sqrt{2}} \\\\ \\frac{1}{\\sqrt{2}} & -\\frac{1}{\\sqrt{2}} \\end{bmatrix} \\\\ \\frac{1}{\\sqrt{2}} \\begin{bmatrix} \\frac{1}{\\sqrt{2}} & \\frac{1}{\\sqrt{2}} \\\\ \\frac{1}{\\sqrt{2}} & -\\frac{1}{\\sqrt{2}} \\end{bmatrix} & -\\frac{1}{\\sqrt{2}} \\begin{bmatrix} \\frac{1}{\\sqrt{2}} & \\frac{1}{\\sqrt{2}} \\\\ \\frac{1}{\\sqrt{2}} & -\\frac{1}{\\sqrt{2}} \\end{bmatrix} \\end{bmatrix} = \\begin{bmatrix} (\\frac{1}{\\sqrt{2}})\\frac{1}{\\sqrt{2}} & (\\frac{1}{\\sqrt{2}})\\frac{1}{\\sqrt{2}} & (\\frac{1}{\\sqrt{2}})\\frac{1}{\\sqrt{2}} & (\\frac{1}{\\sqrt{2}})\\frac{1}{\\sqrt{2}} \\\\ (\\frac{1}{\\sqrt{2}})\\frac{1}{\\sqrt{2}} & -(\\frac{1}{\\sqrt{2}})\\frac{1}{\\sqrt{2}} & (\\frac{1}{\\sqrt{2}})\\frac{1}{\\sqrt{2}} & -(\\frac{1}{\\sqrt{2}})\\frac{1}{\\sqrt{2}} \\\\ (\\frac{1}{\\sqrt{2}})\\frac{1}{\\sqrt{2}} & (\\frac{1}{\\sqrt{2}})\\frac{1}{\\sqrt{2}} & -(\\frac{1}{\\sqrt{2}})\\frac{1}{\\sqrt{2}} & -(\\frac{1}{\\sqrt{2}})\\frac{1}{\\sqrt{2}} \\\\ (\\frac{1}{\\sqrt{2}})\\frac{1}{\\sqrt{2}} & -(\\frac{1}{\\sqrt{2}})\\frac{1}{\\sqrt{2}} & -(\\frac{1}{\\sqrt{2}})\\frac{1}{\\sqrt{2}} & (\\frac{1}{\\sqrt{2}})\\frac{1}{\\sqrt{2}} \\end{bmatrix} = \\frac{1}{2} \\begin{bmatrix} 1 & 1 & 1 & 1 \\\\ 1 & -1 & 1 & -1 \\\\ 1 & 1 & -1 & -1 \\\\ 1 & -1 & -1 & 1 \\end{bmatrix}$"
   ]
  },
  {
   "cell_type": "markdown",
   "id": "05f955ec-fb6b-4e4c-bf6c-4169b5112607",
   "metadata": {},
   "source": [
    "<i>Add a CNOT gate to the result of the previous equation</i><br>\n",
    "$CNOT \\times (H \\bigotimes H) \\times |10\\rangle = \\begin{bmatrix} 1 & 0 & 0 & 0 \\\\ 0 & 1 & 0 & 0 \\\\ 0 & 0 & 0 & 1 \\\\ 0 & 0 & 1 & 0 \\end{bmatrix} \\frac{1}{2} \\begin{bmatrix} 1 & 1 & 1 & 1 \\\\ 1 & -1 & 1 & -1 \\\\ 1 & 1 & -1 & -1 \\\\ 1 & -1 & -1 & 1 \\end{bmatrix} \\begin{bmatrix} 0 \\\\ 0 \\\\ 1 \\\\ 0 \\end{bmatrix} = \\begin{bmatrix} \\frac{1}{2} \\\\ \\frac{1}{2} \\\\ -\\frac{1}{2} \\\\ -\\frac{1}{2} \\end{bmatrix} $"
   ]
  },
  {
   "cell_type": "markdown",
   "id": "aaa432af-7664-464f-9b72-3ce1d987268c",
   "metadata": {},
   "source": [
    "$ (\\frac{1}{2})^2 + (\\frac{1}{2})^2 + (-\\frac{1}{2})^2 + (-\\frac{1}{2})^2 = \\frac{1}{4} + \\frac{1}{4} + \\frac{1}{4} + \\frac{1}{4} = 1 $"
   ]
  },
  {
   "cell_type": "markdown",
   "id": "c5ffc6f7-0acb-4dca-b95a-8679f74d5082",
   "metadata": {},
   "source": [
    "### Function Oracles"
   ]
  },
  {
   "cell_type": "markdown",
   "id": "b88fa4d5-5f60-444f-ad6a-1fa9e58c6d8f",
   "metadata": {},
   "source": [
    "<i>An oracle $O$ is a \"black box\" operation that is used as input to another algorithm.</i><br>"
   ]
  },
  {
   "cell_type": "markdown",
   "id": "e0845501-7fbd-4e8f-8321-0420917617e8",
   "metadata": {},
   "source": [
    "#### Balanced $f(0) = 0$ and $f(1) = 1$\n",
    "\n",
    "<i>x is untouched. If y and f(x) are both zero, then it returns 0 and if they are both one, it returns 0</i><br>\n",
    "$|01\\rangle = \\begin{bmatrix} 0 \\\\ 1 \\\\ 0 \\\\ 0 \\end{bmatrix} \\begin{matrix} |00\\rangle \\\\ |01\\rangle \\\\ |10\\rangle \\\\ |11\\rangle \\end{matrix}$\n",
    "\n",
    "$ |xy\\rangle \\rightarrow |x, y \\oplus f(x) \\rangle$\n",
    "\n",
    "$ \\begin{matrix} |00\\rangle \\\\ |01\\rangle \\\\ |10\\rangle \\\\ |11\\rangle \\end{matrix} \\rightarrow \\begin{matrix} |00\\rangle \\\\ |01\\rangle \\\\ |11\\rangle \\\\ |10\\rangle \\end{matrix}$"
   ]
  },
  {
   "cell_type": "markdown",
   "id": "0e3f6162-0f0c-4b2d-9745-f5dcb9b664bb",
   "metadata": {},
   "source": [
    "#### Constant $f(0) = 1$ and $f(1) = 1$\n",
    "\n",
    "<i>Output is always 0</i><br>\n",
    "$|01\\rangle = \\begin{bmatrix} 0 \\\\ 1 \\\\ 0 \\\\ 0 \\end{bmatrix} \\begin{matrix} |00\\rangle \\\\ |01\\rangle \\\\ |10\\rangle \\\\ |11\\rangle \\end{matrix}$\n",
    "\n",
    "$ |xy\\rangle \\rightarrow |x, y \\oplus f(x) \\rangle$\n",
    "\n",
    "$ \\begin{matrix} |00\\rangle \\\\ |01\\rangle \\\\ |10\\rangle \\\\ |11\\rangle \\end{matrix} \\rightarrow \\begin{matrix} |01\\rangle \\\\ |00\\rangle \\\\ |11\\rangle \\\\ |10\\rangle \\end{matrix}$"
   ]
  },
  {
   "cell_type": "markdown",
   "id": "9a4012a2-3887-4376-9e68-e54179ede619",
   "metadata": {},
   "source": [
    "## Simulate Deutsch's Algorithm using Qiskit"
   ]
  },
  {
   "cell_type": "markdown",
   "id": "c9af5c03-b589-4409-b712-2e8d3f115e09",
   "metadata": {},
   "source": [
    "Using Qiskit I am going to demonstrate the algorithm in action for Constant and Balanced functions."
   ]
  },
  {
   "cell_type": "code",
   "execution_count": 1,
   "id": "e7d67391-7c30-4d37-8310-9449dd682a32",
   "metadata": {},
   "outputs": [],
   "source": [
    "# Qiskit.\n",
    "import qiskit"
   ]
  },
  {
   "cell_type": "code",
   "execution_count": 2,
   "id": "6a2031ed-7a0a-475d-8fa3-57de70b13449",
   "metadata": {},
   "outputs": [],
   "source": [
    "# Aer Simulator.\n",
    "import qiskit.providers.aer as aer"
   ]
  },
  {
   "cell_type": "code",
   "execution_count": 3,
   "id": "0c276941-606d-4340-b699-eed436c93f5f",
   "metadata": {},
   "outputs": [],
   "source": [
    "# Diagrams.\n",
    "import matplotlib.pyplot as plt"
   ]
  },
  {
   "cell_type": "code",
   "execution_count": 4,
   "id": "1d7ca346-f38d-4d69-a609-6b147efb67cb",
   "metadata": {},
   "outputs": [],
   "source": [
    "# Change pyplot style.\n",
    "plt.style.use('ggplot')"
   ]
  },
  {
   "cell_type": "markdown",
   "id": "4b0a9e85-146e-4942-9c02-58c082f44d62",
   "metadata": {},
   "source": [
    "### Constant Zero Function"
   ]
  },
  {
   "cell_type": "code",
   "execution_count": 5,
   "id": "773fec69-1894-4f86-98f7-09b57f0b3570",
   "metadata": {},
   "outputs": [],
   "source": [
    "# Create a quantum circuit.\n",
    "circuit = qiskit.QuantumCircuit(2, 1)"
   ]
  },
  {
   "cell_type": "code",
   "execution_count": 6,
   "id": "4ce50938-47e3-4583-9bf8-e0d8cb4d2a62",
   "metadata": {},
   "outputs": [
    {
     "data": {
      "text/plain": [
       "<qiskit.circuit.instructionset.InstructionSet at 0x7fae3253b970>"
      ]
     },
     "execution_count": 6,
     "metadata": {},
     "output_type": "execute_result"
    }
   ],
   "source": [
    "# Initialise the first qubit to |0>.\n",
    "circuit.initialize([1, 0], 0)"
   ]
  },
  {
   "cell_type": "code",
   "execution_count": 7,
   "id": "6ffda562-1d86-4977-8654-04938ddbe084",
   "metadata": {},
   "outputs": [
    {
     "data": {
      "text/plain": [
       "<qiskit.circuit.instructionset.InstructionSet at 0x7fae3253b880>"
      ]
     },
     "execution_count": 7,
     "metadata": {},
     "output_type": "execute_result"
    }
   ],
   "source": [
    "# Initialise the second qubit to |1>.\n",
    "circuit.initialize([0, 1], 1)"
   ]
  },
  {
   "cell_type": "code",
   "execution_count": 8,
   "id": "f49050e4-7816-44db-b49d-d71e391e0810",
   "metadata": {},
   "outputs": [
    {
     "data": {
      "text/plain": [
       "<qiskit.circuit.instructionset.InstructionSet at 0x7fae3253b9d0>"
      ]
     },
     "execution_count": 8,
     "metadata": {},
     "output_type": "execute_result"
    }
   ],
   "source": [
    "# Apply a Hadamard gate to the each qubit.\n",
    "circuit.h((0, 1))"
   ]
  },
  {
   "cell_type": "code",
   "execution_count": 9,
   "id": "2d376a0c-263a-4cf1-b978-f7254368534c",
   "metadata": {},
   "outputs": [
    {
     "data": {
      "text/plain": [
       "<qiskit.circuit.instructionset.InstructionSet at 0x7fae3253be50>"
      ]
     },
     "execution_count": 9,
     "metadata": {},
     "output_type": "execute_result"
    }
   ],
   "source": [
    "# Identity gate.\n",
    "circuit.i(1)"
   ]
  },
  {
   "cell_type": "code",
   "execution_count": 10,
   "id": "cf46d802-c0d3-4b80-af2e-ac7672df2d1f",
   "metadata": {},
   "outputs": [
    {
     "data": {
      "text/plain": [
       "<qiskit.circuit.instructionset.InstructionSet at 0x7fae325ff850>"
      ]
     },
     "execution_count": 10,
     "metadata": {},
     "output_type": "execute_result"
    }
   ],
   "source": [
    "# Apply another Hadamard gate to the first qubit.\n",
    "circuit.h(0)"
   ]
  },
  {
   "cell_type": "code",
   "execution_count": 11,
   "id": "cec0b958-9c62-44e8-a95d-4aa00801dd04",
   "metadata": {},
   "outputs": [
    {
     "data": {
      "text/plain": [
       "<qiskit.circuit.instructionset.InstructionSet at 0x7fae32550220>"
      ]
     },
     "execution_count": 11,
     "metadata": {},
     "output_type": "execute_result"
    }
   ],
   "source": [
    "# Measure the first qubit.\n",
    "circuit.measure(0, 0)"
   ]
  },
  {
   "cell_type": "code",
   "execution_count": 12,
   "id": "474f5334-7bcd-41b8-bba5-f0b0f47123c3",
   "metadata": {},
   "outputs": [
    {
     "data": {
      "image/png": "[encoded data removed]",
      "text/plain": [
       "<Figure size 589.054x368.424 with 1 Axes>"
      ]
     },
     "execution_count": 12,
     "metadata": {},
     "output_type": "execute_result"
    }
   ],
   "source": [
    "# Draw the circuit.\n",
    "circuit.draw(output='mpl', scale=1.8)"
   ]
  },
  {
   "cell_type": "code",
   "execution_count": 13,
   "id": "76a4ccda-d68a-4209-abd9-519e1bb006dc",
   "metadata": {},
   "outputs": [],
   "source": [
    "# Create a simulation instance.\n",
    "simulator = aer.QasmSimulator()"
   ]
  },
  {
   "cell_type": "code",
   "execution_count": 14,
   "id": "43553f5f-d05c-4a4d-bb20-0c8cf20b3266",
   "metadata": {},
   "outputs": [],
   "source": [
    "# Compile the circuit in the simulator.\n",
    "compcircuit = qiskit.transpile(circuit, simulator)"
   ]
  },
  {
   "cell_type": "code",
   "execution_count": 15,
   "id": "0b4f1ce1-746e-4bec-96f8-fa46ba62c4cb",
   "metadata": {},
   "outputs": [],
   "source": [
    "# Simulate the circuit 1000 times.\n",
    "job = simulator.run(compcircuit, shots=1000)"
   ]
  },
  {
   "cell_type": "code",
   "execution_count": 16,
   "id": "3a5f0cbe-b12e-4a03-baf2-33a102879572",
   "metadata": {},
   "outputs": [],
   "source": [
    "# Get the results.\n",
    "results = job.result()"
   ]
  },
  {
   "cell_type": "code",
   "execution_count": 17,
   "id": "499156d8-02f6-408a-babf-fd1f8cebc607",
   "metadata": {},
   "outputs": [],
   "source": [
    "# Show the results count.\n",
    "counts = results.get_counts()"
   ]
  },
  {
   "cell_type": "code",
   "execution_count": 18,
   "id": "c2da450f-0b4d-4b4f-a730-c6231fee66ed",
   "metadata": {},
   "outputs": [
    {
     "data": {
      "image/png": "[encoded data removed]",
      "text/plain": [
       "<Figure size 72x288 with 1 Axes>"
      ]
     },
     "execution_count": 18,
     "metadata": {},
     "output_type": "execute_result"
    }
   ],
   "source": [
    "# Display historgram.\n",
    "qiskit.visualization.plot_histogram(counts, figsize=(1, 4))"
   ]
  },
  {
   "cell_type": "markdown",
   "id": "24423f57-4460-435c-904e-9e199fd6cc24",
   "metadata": {},
   "source": [
    "### Constant One Function"
   ]
  },
  {
   "cell_type": "code",
   "execution_count": 19,
   "id": "bfc56245-486e-42e2-a259-e1a120ce164f",
   "metadata": {},
   "outputs": [],
   "source": [
    "# Create a quantum circuit.\n",
    "circuit = qiskit.QuantumCircuit(2, 1)"
   ]
  },
  {
   "cell_type": "code",
   "execution_count": 20,
   "id": "76a09c00-da40-4c8d-995d-67bfe8476583",
   "metadata": {},
   "outputs": [
    {
     "data": {
      "text/plain": [
       "<qiskit.circuit.instructionset.InstructionSet at 0x7fae47cb3e20>"
      ]
     },
     "execution_count": 20,
     "metadata": {},
     "output_type": "execute_result"
    }
   ],
   "source": [
    "# Initialise the first qubit to 0.\n",
    "circuit.initialize([1, 0], 0)"
   ]
  },
  {
   "cell_type": "code",
   "execution_count": 21,
   "id": "5ca49719-e17c-45b4-b14c-33c1ab7c9bb5",
   "metadata": {},
   "outputs": [
    {
     "data": {
      "text/plain": [
       "<qiskit.circuit.instructionset.InstructionSet at 0x7fae47c1e0a0>"
      ]
     },
     "execution_count": 21,
     "metadata": {},
     "output_type": "execute_result"
    }
   ],
   "source": [
    "# Initialise the second qubit to 1.\n",
    "circuit.initialize([0, 1], 1)"
   ]
  },
  {
   "cell_type": "code",
   "execution_count": 22,
   "id": "db5bd7bc-c3fe-4c79-9332-7d3d7c30c2e1",
   "metadata": {},
   "outputs": [
    {
     "data": {
      "text/plain": [
       "<qiskit.circuit.instructionset.InstructionSet at 0x7fae47c0eee0>"
      ]
     },
     "execution_count": 22,
     "metadata": {},
     "output_type": "execute_result"
    }
   ],
   "source": [
    "# Apply a Hadamard gate to each qubit.\n",
    "circuit.h((0, 1))"
   ]
  },
  {
   "cell_type": "code",
   "execution_count": 23,
   "id": "d9d6d3e1-b7f8-4d14-aaaf-7ce577e2f360",
   "metadata": {},
   "outputs": [
    {
     "data": {
      "text/plain": [
       "<qiskit.circuit.instructionset.InstructionSet at 0x7fae47c2d160>"
      ]
     },
     "execution_count": 23,
     "metadata": {},
     "output_type": "execute_result"
    }
   ],
   "source": [
    "# X gate.\n",
    "circuit.x(1)"
   ]
  },
  {
   "cell_type": "code",
   "execution_count": 24,
   "id": "c35b7911-6a76-4061-b453-e147e67a1f53",
   "metadata": {},
   "outputs": [
    {
     "data": {
      "text/plain": [
       "<qiskit.circuit.instructionset.InstructionSet at 0x7fae47c2d3d0>"
      ]
     },
     "execution_count": 24,
     "metadata": {},
     "output_type": "execute_result"
    }
   ],
   "source": [
    "# Apply another Hadamard gate to the first qubit.\n",
    "circuit.h(0)"
   ]
  },
  {
   "cell_type": "code",
   "execution_count": 25,
   "id": "cc7f13b5-639e-461e-a949-0be25e761ec3",
   "metadata": {},
   "outputs": [
    {
     "data": {
      "text/plain": [
       "<qiskit.circuit.instructionset.InstructionSet at 0x7fae47c2d430>"
      ]
     },
     "execution_count": 25,
     "metadata": {},
     "output_type": "execute_result"
    }
   ],
   "source": [
    "# Measure the first qubit.\n",
    "circuit.measure(0, 0)"
   ]
  },
  {
   "cell_type": "code",
   "execution_count": 26,
   "id": "c678a9b4-8fee-40dd-8133-05e1a331a3e5",
   "metadata": {},
   "outputs": [
    {
     "data": {
      "image/png": "[encoded data removed]",
      "text/plain": [
       "<Figure size 589.054x368.424 with 1 Axes>"
      ]
     },
     "execution_count": 26,
     "metadata": {},
     "output_type": "execute_result"
    }
   ],
   "source": [
    "# Draw the circuit.\n",
    "circuit.draw(output='mpl', scale=1.8)"
   ]
  },
  {
   "cell_type": "code",
   "execution_count": 27,
   "id": "f7574825-0721-44d0-aef9-8a5d93035163",
   "metadata": {},
   "outputs": [],
   "source": [
    "# Create a simulation instance.\n",
    "simulator = aer.QasmSimulator()"
   ]
  },
  {
   "cell_type": "code",
   "execution_count": 28,
   "id": "e1cd4ddb-c974-45b3-a609-6e073d65534e",
   "metadata": {},
   "outputs": [],
   "source": [
    "# Compile the circuit in the simulator.\n",
    "compcircuit = qiskit.transpile(circuit, simulator)"
   ]
  },
  {
   "cell_type": "code",
   "execution_count": 29,
   "id": "e5ed8e88-615e-4842-9ddc-d768bcc3f798",
   "metadata": {},
   "outputs": [],
   "source": [
    "# Simulate the circuit 1000 times.\n",
    "job = simulator.run(compcircuit, shots=1000)"
   ]
  },
  {
   "cell_type": "code",
   "execution_count": 30,
   "id": "1a918bb5-80c3-40ee-b4eb-a0380b190b68",
   "metadata": {},
   "outputs": [],
   "source": [
    "# Get the results.\n",
    "results = job.result()"
   ]
  },
  {
   "cell_type": "code",
   "execution_count": 31,
   "id": "5c3760b9-e331-4af3-9ec4-0f8bb1ae8904",
   "metadata": {},
   "outputs": [],
   "source": [
    "# Show the results count.\n",
    "counts = results.get_counts()"
   ]
  },
  {
   "cell_type": "code",
   "execution_count": 32,
   "id": "718004a2-f0ab-4f19-b9e6-7c3aa651ceca",
   "metadata": {},
   "outputs": [
    {
     "data": {
      "image/png": "[encoded data removed]",
      "text/plain": [
       "<Figure size 72x288 with 1 Axes>"
      ]
     },
     "execution_count": 32,
     "metadata": {},
     "output_type": "execute_result"
    }
   ],
   "source": [
    "# Display historgram.\n",
    "qiskit.visualization.plot_histogram(counts, figsize=(1, 4))"
   ]
  },
  {
   "cell_type": "markdown",
   "id": "f344743b-7da5-4612-a089-39fcfdaad9bb",
   "metadata": {},
   "source": [
    "### Balanced Function\n",
    "\n",
    "#### $f(0) = 0, f(1) = 1$"
   ]
  },
  {
   "cell_type": "code",
   "execution_count": 33,
   "id": "23817d61-ed84-4ac3-b3c7-584809884265",
   "metadata": {},
   "outputs": [],
   "source": [
    "# Create a quantum circuit.\n",
    "circuit = qiskit.QuantumCircuit(2, 1)"
   ]
  },
  {
   "cell_type": "code",
   "execution_count": 34,
   "id": "7d2e02fc-dc70-4499-bb58-3253dc2d03f7",
   "metadata": {},
   "outputs": [
    {
     "data": {
      "text/plain": [
       "<qiskit.circuit.instructionset.InstructionSet at 0x7fae315950d0>"
      ]
     },
     "execution_count": 34,
     "metadata": {},
     "output_type": "execute_result"
    }
   ],
   "source": [
    "# Initialise the first qubit to |0>.\n",
    "circuit.initialize([1, 0], 0)"
   ]
  },
  {
   "cell_type": "code",
   "execution_count": 35,
   "id": "6bec2477-c50e-4c11-890b-99b82769365c",
   "metadata": {},
   "outputs": [
    {
     "data": {
      "text/plain": [
       "<qiskit.circuit.instructionset.InstructionSet at 0x7fae47b5d550>"
      ]
     },
     "execution_count": 35,
     "metadata": {},
     "output_type": "execute_result"
    }
   ],
   "source": [
    "# Initialise the second qubit to |1>.\n",
    "circuit.initialize([0, 1], 1)"
   ]
  },
  {
   "cell_type": "code",
   "execution_count": 36,
   "id": "90aee83b-4067-4519-84dc-e05e41d2b1ec",
   "metadata": {},
   "outputs": [
    {
     "data": {
      "text/plain": [
       "<qiskit.circuit.instructionset.InstructionSet at 0x7fae31585400>"
      ]
     },
     "execution_count": 36,
     "metadata": {},
     "output_type": "execute_result"
    }
   ],
   "source": [
    "# Apply a Hadamard gate to each qubit.\n",
    "circuit.h((0, 1))"
   ]
  },
  {
   "cell_type": "code",
   "execution_count": 37,
   "id": "e4e31af7-32c9-4b90-b77f-b678b669839d",
   "metadata": {},
   "outputs": [],
   "source": [
    "# CNOT gate.\n",
    "circuit.cnot(0, 1)"
   ]
  },
  {
   "cell_type": "code",
   "execution_count": 38,
   "id": "221646e7-2866-4a6e-884d-e47b0b900c0e",
   "metadata": {},
   "outputs": [
    {
     "data": {
      "text/plain": [
       "<qiskit.circuit.instructionset.InstructionSet at 0x7fae315857f0>"
      ]
     },
     "execution_count": 38,
     "metadata": {},
     "output_type": "execute_result"
    }
   ],
   "source": [
    "# Apply another Hadamard gate to the first qubit.\n",
    "circuit.h(0)"
   ]
  },
  {
   "cell_type": "code",
   "execution_count": 39,
   "id": "d3f6c77d-e18d-4d69-9ba8-90f2da8dccd5",
   "metadata": {},
   "outputs": [
    {
     "data": {
      "text/plain": [
       "<qiskit.circuit.instructionset.InstructionSet at 0x7faeb0010670>"
      ]
     },
     "execution_count": 39,
     "metadata": {},
     "output_type": "execute_result"
    }
   ],
   "source": [
    "# Measure the first qubit.\n",
    "circuit.measure(0, 0)"
   ]
  },
  {
   "cell_type": "code",
   "execution_count": 40,
   "id": "cbdca072-9b3a-4ea3-b015-8a6a36013d08",
   "metadata": {},
   "outputs": [
    {
     "data": {
      "image/png": "[encoded data removed]",
      "text/plain": [
       "<Figure size 697.414x368.424 with 1 Axes>"
      ]
     },
     "execution_count": 40,
     "metadata": {},
     "output_type": "execute_result"
    }
   ],
   "source": [
    "# Draw the circuit.\n",
    "circuit.draw(output='mpl', scale=1.8)"
   ]
  },
  {
   "cell_type": "code",
   "execution_count": 41,
   "id": "1fa9fda6-c191-4ff8-8356-a8fc6c6f19d6",
   "metadata": {},
   "outputs": [],
   "source": [
    "# Create a simulation instance.\n",
    "simulator = aer.QasmSimulator()"
   ]
  },
  {
   "cell_type": "code",
   "execution_count": 42,
   "id": "1f20f34d-0e8b-4176-8c81-56d8fb1faf42",
   "metadata": {},
   "outputs": [],
   "source": [
    "# Compile the circuit in the simulator.\n",
    "compcircuit = qiskit.transpile(circuit, simulator)"
   ]
  },
  {
   "cell_type": "code",
   "execution_count": 43,
   "id": "b823784f-e0a3-42fa-a16b-253c81e47601",
   "metadata": {},
   "outputs": [],
   "source": [
    "# Simulate the circuit 1000 times.\n",
    "job = simulator.run(compcircuit, shots=1000)"
   ]
  },
  {
   "cell_type": "code",
   "execution_count": 44,
   "id": "c0dab6b6-10f2-4988-83c3-0d79b13ffea8",
   "metadata": {},
   "outputs": [],
   "source": [
    "# Get the results.\n",
    "results = job.result()"
   ]
  },
  {
   "cell_type": "code",
   "execution_count": 45,
   "id": "f0f64540-ae1c-4bf1-aae3-e20315d3ffb1",
   "metadata": {},
   "outputs": [],
   "source": [
    "# Show the results count.\n",
    "counts = results.get_counts()"
   ]
  },
  {
   "cell_type": "code",
   "execution_count": 46,
   "id": "95b33eb4-2b19-4756-a5de-23a3651b7b93",
   "metadata": {},
   "outputs": [
    {
     "data": {
      "image/png": "[encoded data removed]",
      "text/plain": [
       "<Figure size 72x288 with 1 Axes>"
      ]
     },
     "execution_count": 46,
     "metadata": {},
     "output_type": "execute_result"
    }
   ],
   "source": [
    "# Display historgram.\n",
    "qiskit.visualization.plot_histogram(counts, figsize=(1, 4))"
   ]
  },
  {
   "cell_type": "markdown",
   "id": "7daa7a70-28ea-4895-a219-460e081a5755",
   "metadata": {},
   "source": [
    "### Balanced Function\n",
    "\n",
    "#### $f(0) = 1, f(1) = 0$"
   ]
  },
  {
   "cell_type": "code",
   "execution_count": 47,
   "id": "12abc68f-5ceb-4b0a-837d-4c015ffbc321",
   "metadata": {},
   "outputs": [],
   "source": [
    "# Create a quantum circuit.\n",
    "circuit = qiskit.QuantumCircuit(2, 1)"
   ]
  },
  {
   "cell_type": "code",
   "execution_count": 48,
   "id": "6bed1990-6251-4e95-bebd-7a1a3e85566a",
   "metadata": {},
   "outputs": [
    {
     "data": {
      "text/plain": [
       "<qiskit.circuit.instructionset.InstructionSet at 0x7fae31484d00>"
      ]
     },
     "execution_count": 48,
     "metadata": {},
     "output_type": "execute_result"
    }
   ],
   "source": [
    "# Initialise the first qubit to |0>.\n",
    "circuit.initialize([1, 0], 0)"
   ]
  },
  {
   "cell_type": "code",
   "execution_count": 49,
   "id": "b4a1f47d-2955-4481-865f-de7c4a88756b",
   "metadata": {},
   "outputs": [
    {
     "data": {
      "text/plain": [
       "<qiskit.circuit.instructionset.InstructionSet at 0x7fae31484850>"
      ]
     },
     "execution_count": 49,
     "metadata": {},
     "output_type": "execute_result"
    }
   ],
   "source": [
    "# Initialise the second qubit to |1>.\n",
    "circuit.initialize([0, 1], 1)"
   ]
  },
  {
   "cell_type": "code",
   "execution_count": 50,
   "id": "416566a1-d7da-425a-81bc-9f0342e02c1b",
   "metadata": {},
   "outputs": [
    {
     "data": {
      "text/plain": [
       "<qiskit.circuit.instructionset.InstructionSet at 0x7fae31481dc0>"
      ]
     },
     "execution_count": 50,
     "metadata": {},
     "output_type": "execute_result"
    }
   ],
   "source": [
    "# Apply a Hadamard gate to each qubit.\n",
    "circuit.h((0, 1))"
   ]
  },
  {
   "cell_type": "code",
   "execution_count": 51,
   "id": "669fbd87-43c8-4221-894a-c154ab1e4fc5",
   "metadata": {},
   "outputs": [],
   "source": [
    "# CNOT gate.\n",
    "circuit.cnot(0, 1)"
   ]
  },
  {
   "cell_type": "code",
   "execution_count": 52,
   "id": "40afadcb-105c-4c04-b834-48d25f0e239c",
   "metadata": {},
   "outputs": [
    {
     "data": {
      "text/plain": [
       "<qiskit.circuit.instructionset.InstructionSet at 0x7fae31481df0>"
      ]
     },
     "execution_count": 52,
     "metadata": {},
     "output_type": "execute_result"
    }
   ],
   "source": [
    "# Apply x to the second qubit.\n",
    "circuit.x(1)"
   ]
  },
  {
   "cell_type": "code",
   "execution_count": 53,
   "id": "6801bc9a-3717-4dc2-a3df-79fad98e9abc",
   "metadata": {},
   "outputs": [
    {
     "data": {
      "text/plain": [
       "<qiskit.circuit.instructionset.InstructionSet at 0x7fae30432160>"
      ]
     },
     "execution_count": 53,
     "metadata": {},
     "output_type": "execute_result"
    }
   ],
   "source": [
    "# Apply another Hadamard gate to the first qubit.\n",
    "circuit.h(0)"
   ]
  },
  {
   "cell_type": "code",
   "execution_count": 54,
   "id": "c0bfe9e2-c090-4ea2-810f-b1384edad304",
   "metadata": {},
   "outputs": [
    {
     "data": {
      "text/plain": [
       "<qiskit.circuit.instructionset.InstructionSet at 0x7fae304321c0>"
      ]
     },
     "execution_count": 54,
     "metadata": {},
     "output_type": "execute_result"
    }
   ],
   "source": [
    "# Measure the first qubit.\n",
    "circuit.measure(0, 0)"
   ]
  },
  {
   "cell_type": "code",
   "execution_count": 55,
   "id": "ee88d4f9-2f2f-47f9-b98d-624b93d3d980",
   "metadata": {},
   "outputs": [
    {
     "data": {
      "image/png": "[encoded data removed]",
      "text/plain": [
       "<Figure size 697.414x368.424 with 1 Axes>"
      ]
     },
     "execution_count": 55,
     "metadata": {},
     "output_type": "execute_result"
    }
   ],
   "source": [
    "# Draw the circuit.\n",
    "circuit.draw(output='mpl', scale=1.8)"
   ]
  },
  {
   "cell_type": "code",
   "execution_count": 56,
   "id": "5bc60864-9293-4a30-acbd-40c09c4648eb",
   "metadata": {},
   "outputs": [],
   "source": [
    "# Create a simulation instance.\n",
    "simulator = aer.QasmSimulator()"
   ]
  },
  {
   "cell_type": "code",
   "execution_count": 57,
   "id": "fd4247f1-8915-446a-974e-42482873f4cc",
   "metadata": {},
   "outputs": [],
   "source": [
    "# Compile the circuit in the simulator.\n",
    "compcircuit = qiskit.transpile(circuit, simulator)"
   ]
  },
  {
   "cell_type": "code",
   "execution_count": 58,
   "id": "bd0b7348-6d89-4281-ba6d-07c8a2b8a1f6",
   "metadata": {},
   "outputs": [],
   "source": [
    "# Simulate the circuit 1000 times.\n",
    "job = simulator.run(compcircuit, shots=1000)"
   ]
  },
  {
   "cell_type": "code",
   "execution_count": 59,
   "id": "54ad5773-921e-40d3-8f69-d2723c65bd21",
   "metadata": {},
   "outputs": [],
   "source": [
    "# Get the results.\n",
    "results = job.result()"
   ]
  },
  {
   "cell_type": "code",
   "execution_count": 60,
   "id": "bbf50ffc-d0f9-4ab8-befc-2eaafe35f94b",
   "metadata": {},
   "outputs": [],
   "source": [
    "# Show the results count.\n",
    "counts = results.get_counts()"
   ]
  },
  {
   "cell_type": "code",
   "execution_count": 61,
   "id": "ae351f96-9dd7-4a55-aeae-3a532f509544",
   "metadata": {},
   "outputs": [
    {
     "data": {
      "image/png": "[encoded data removed]",
      "text/plain": [
       "<Figure size 72x288 with 1 Axes>"
      ]
     },
     "execution_count": 61,
     "metadata": {},
     "output_type": "execute_result"
    }
   ],
   "source": [
    "# Display historgram.\n",
    "qiskit.visualization.plot_histogram(counts, figsize=(1, 4))"
   ]
  },
  {
   "cell_type": "markdown",
   "id": "3b6b04e4-85aa-4887-b3e6-21f91b020276",
   "metadata": {},
   "source": [
    "### Random Function"
   ]
  },
  {
   "cell_type": "markdown",
   "id": "8c6526b6-7c0d-4fd2-9584-3ad8e104a3ca",
   "metadata": {},
   "source": [
    "<i>The Random Function, selects a random number between 1 and 4, this number is then used to create a function. After some calculations, I determine whether it's a constant or a balanced function."
   ]
  },
  {
   "cell_type": "code",
   "execution_count": 62,
   "id": "e24f062e-9f53-47a1-993f-fc3dbc47dfe3",
   "metadata": {},
   "outputs": [],
   "source": [
    "# Random numbers.\n",
    "import random"
   ]
  },
  {
   "cell_type": "code",
   "execution_count": 63,
   "id": "cc05d402-9229-426e-8192-c08a8ceaa08a",
   "metadata": {},
   "outputs": [],
   "source": [
    "# Return a random (part of) circuit - implementing the quantum oracle for f.\n",
    "def random_f():\n",
    "    # Create a circuit with 2 qubits, 1 classical bit.\n",
    "    circuit = qiskit.QuantumCircuit(2, 1)\n",
    "    \n",
    "    # Pick one of the four functions at random.\n",
    "    f_number = random.randint(1, 4)\n",
    "    \n",
    "    # 1: Constant 0 Function. f(0) = f(1) = 0\n",
    "    # 2: Constant 1 Function. f(0) = f(1) = 1\n",
    "    # 3: Balanced Identity Function. f(0) = 0, f(1) = 1\n",
    "    # 4: Balanced Not Function. f(0) = 1, f(1) = 0\n",
    "    \n",
    "    if f_number == 1:\n",
    "        # Apply Identity gate to second qubit.\n",
    "        circuit.i(1)\n",
    "    elif f_number == 2:\n",
    "        # Apply Pauli x gate to second qubit.\n",
    "        circuit.x(1)\n",
    "    elif f_number == 3:\n",
    "        # Apply CNOT gate from first to second qubit.\n",
    "        circuit.cnot(0, 1)\n",
    "    elif f_number == 4:\n",
    "        # Apply CNOT gate from first to second qubit.\n",
    "        circuit.cnot(0, 1)\n",
    "        # Apply Pauli x gate to second qubit.\n",
    "        circuit.x(1)\n",
    "    else:\n",
    "        print(\"Error!\")\n",
    "        \n",
    "    # Return the circuit.\n",
    "    return circuit"
   ]
  },
  {
   "cell_type": "markdown",
   "id": "776eef25-2cd8-4f83-ac89-1704d5fecc02",
   "metadata": {},
   "source": [
    "#### Create First Part of Circuit"
   ]
  },
  {
   "cell_type": "code",
   "execution_count": 64,
   "id": "a81f8388-97bb-4fa4-94be-a80d0b61056d",
   "metadata": {},
   "outputs": [],
   "source": [
    "# Create a quantum circuit.\n",
    "circuit = qiskit.QuantumCircuit(2, 1)"
   ]
  },
  {
   "cell_type": "code",
   "execution_count": 65,
   "id": "24eac165-1334-4e61-b834-b5e2e99c8d97",
   "metadata": {},
   "outputs": [
    {
     "data": {
      "text/plain": [
       "<qiskit.circuit.instructionset.InstructionSet at 0x7fae30336580>"
      ]
     },
     "execution_count": 65,
     "metadata": {},
     "output_type": "execute_result"
    }
   ],
   "source": [
    "# Initialise the first qubit to |0>.\n",
    "circuit.initialize([1, 0], 0)"
   ]
  },
  {
   "cell_type": "code",
   "execution_count": 66,
   "id": "f75dca99-e021-46c0-b6a3-7b31192722b9",
   "metadata": {},
   "outputs": [
    {
     "data": {
      "text/plain": [
       "<qiskit.circuit.instructionset.InstructionSet at 0x7fae31481ee0>"
      ]
     },
     "execution_count": 66,
     "metadata": {},
     "output_type": "execute_result"
    }
   ],
   "source": [
    "# Initialise the second qubit to |1>.\n",
    "circuit.initialize([0, 1], 1)"
   ]
  },
  {
   "cell_type": "code",
   "execution_count": 67,
   "id": "e6e9199f-1880-4ba7-8471-597bb4c4a3ee",
   "metadata": {},
   "outputs": [
    {
     "data": {
      "text/plain": [
       "<qiskit.circuit.instructionset.InstructionSet at 0x7fae303ad040>"
      ]
     },
     "execution_count": 67,
     "metadata": {},
     "output_type": "execute_result"
    }
   ],
   "source": [
    "# Apply a Hadamard gate to each qubit.\n",
    "circuit.h((0, 1))"
   ]
  },
  {
   "cell_type": "code",
   "execution_count": 68,
   "id": "e26b615c-7a4e-4c1d-aea2-75859bef6c32",
   "metadata": {},
   "outputs": [
    {
     "data": {
      "text/plain": [
       "<qiskit.circuit.instructionset.InstructionSet at 0x7fae30364040>"
      ]
     },
     "execution_count": 68,
     "metadata": {},
     "output_type": "execute_result"
    }
   ],
   "source": [
    "# Separate parts of circuit.\n",
    "circuit.barrier()"
   ]
  },
  {
   "cell_type": "code",
   "execution_count": 69,
   "id": "21d84579-413f-4b17-ae9d-42f9dc5ed27d",
   "metadata": {},
   "outputs": [
    {
     "data": {
      "image/png": "[encoded data removed]",
      "text/plain": [
       "<Figure size 480.694x368.424 with 1 Axes>"
      ]
     },
     "execution_count": 69,
     "metadata": {},
     "output_type": "execute_result"
    }
   ],
   "source": [
    "# Draw the circuit.\n",
    "circuit.draw(output='mpl', scale=1.8)"
   ]
  },
  {
   "cell_type": "markdown",
   "id": "2680707c-53dc-445e-aa3d-33964f84e7b3",
   "metadata": {},
   "source": [
    "#### Create Second Part of Circuit"
   ]
  },
  {
   "cell_type": "code",
   "execution_count": 70,
   "id": "15964317-7075-4e62-8e7a-a1a878e0c8c1",
   "metadata": {},
   "outputs": [],
   "source": [
    "# Append the random_f() circuit to circuit\n",
    "circuit.compose(random_f(), inplace=True)"
   ]
  },
  {
   "cell_type": "code",
   "execution_count": 71,
   "id": "f69b12b5-a297-4d8d-8253-48ff4795da1d",
   "metadata": {},
   "outputs": [
    {
     "data": {
      "text/plain": [
       "<qiskit.circuit.instructionset.InstructionSet at 0x7fae30235640>"
      ]
     },
     "execution_count": 71,
     "metadata": {},
     "output_type": "execute_result"
    }
   ],
   "source": [
    "# Separate parts of circuit.\n",
    "circuit.barrier()"
   ]
  },
  {
   "cell_type": "code",
   "execution_count": 72,
   "id": "2e70238d-35ac-4c6b-8537-e8287adc3c14",
   "metadata": {},
   "outputs": [
    {
     "data": {
      "image/png": "[encoded data removed]",
      "text/plain": [
       "<Figure size 697.414x368.424 with 1 Axes>"
      ]
     },
     "execution_count": 72,
     "metadata": {},
     "output_type": "execute_result"
    }
   ],
   "source": [
    "# Draw the circuit.\n",
    "circuit.draw(output='mpl', scale=1.8)"
   ]
  },
  {
   "cell_type": "markdown",
   "id": "cc29d49b-0a86-4a70-950d-6ebcca0fe5da",
   "metadata": {},
   "source": [
    "#### Create Third Part of Circuit"
   ]
  },
  {
   "cell_type": "code",
   "execution_count": 73,
   "id": "de239472-5709-488f-a727-724cbeeca032",
   "metadata": {},
   "outputs": [
    {
     "data": {
      "text/plain": [
       "<qiskit.circuit.instructionset.InstructionSet at 0x7fae301ce580>"
      ]
     },
     "execution_count": 73,
     "metadata": {},
     "output_type": "execute_result"
    }
   ],
   "source": [
    "# Apply another Hadamard gate to the first qubit.\n",
    "circuit.h(0)"
   ]
  },
  {
   "cell_type": "code",
   "execution_count": 74,
   "id": "45d9b704-b870-4281-9da8-ee37f151ca06",
   "metadata": {},
   "outputs": [
    {
     "data": {
      "text/plain": [
       "<qiskit.circuit.instructionset.InstructionSet at 0x7fae3029bb20>"
      ]
     },
     "execution_count": 74,
     "metadata": {},
     "output_type": "execute_result"
    }
   ],
   "source": [
    "# Measure the first qubit.\n",
    "circuit.measure(0, 0)"
   ]
  },
  {
   "cell_type": "code",
   "execution_count": 75,
   "id": "2f930128-aa70-43e6-8987-4a580475a277",
   "metadata": {},
   "outputs": [
    {
     "data": {
      "image/png": "[encoded data removed]",
      "text/plain": [
       "<Figure size 914.134x368.424 with 1 Axes>"
      ]
     },
     "execution_count": 75,
     "metadata": {},
     "output_type": "execute_result"
    }
   ],
   "source": [
    "# Draw the circuit.\n",
    "circuit.draw(output='mpl', scale=1.8)"
   ]
  },
  {
   "cell_type": "markdown",
   "id": "443b3e6a-aaad-4ad4-acb6-9be2cbf3b527",
   "metadata": {},
   "source": [
    "#### Simulate and Decide"
   ]
  },
  {
   "cell_type": "code",
   "execution_count": 76,
   "id": "1b205b6a-e1fd-4517-a6a2-ab4ce4c49e03",
   "metadata": {},
   "outputs": [],
   "source": [
    "# Create a simulation instance.\n",
    "simulator = aer.QasmSimulator()"
   ]
  },
  {
   "cell_type": "code",
   "execution_count": 77,
   "id": "caf3ad84-05d4-402c-b027-736d0e453a83",
   "metadata": {},
   "outputs": [],
   "source": [
    "# Compile the circuit in the simulator.\n",
    "compcircuit = qiskit.transpile(circuit, simulator)"
   ]
  },
  {
   "cell_type": "code",
   "execution_count": 78,
   "id": "b91dea42-13ab-4c2a-9527-ca4b2f599910",
   "metadata": {},
   "outputs": [],
   "source": [
    "# Simulate the circuit 1000 times.\n",
    "job = simulator.run(compcircuit, shots=1000)"
   ]
  },
  {
   "cell_type": "code",
   "execution_count": 79,
   "id": "09810bdf-10f4-4755-b34f-b90da31b45cf",
   "metadata": {},
   "outputs": [],
   "source": [
    "# Get the results.\n",
    "results = job.result()"
   ]
  },
  {
   "cell_type": "code",
   "execution_count": 80,
   "id": "dabc727f-4b8d-4a88-adff-b264a9e379f9",
   "metadata": {},
   "outputs": [],
   "source": [
    "# Show the results count.\n",
    "counts = results.get_counts()"
   ]
  },
  {
   "cell_type": "code",
   "execution_count": 81,
   "id": "5ef980b2-e310-4f71-a0fa-15dd0ae0e721",
   "metadata": {},
   "outputs": [
    {
     "data": {
      "image/png": "[encoded data removed]",
      "text/plain": [
       "<Figure size 72x288 with 1 Axes>"
      ]
     },
     "execution_count": 81,
     "metadata": {},
     "output_type": "execute_result"
    }
   ],
   "source": [
    "# Display historgram.\n",
    "qiskit.visualization.plot_histogram(counts, figsize=(1, 4))"
   ]
  },
  {
   "cell_type": "markdown",
   "id": "983e921c-5480-43e6-9247-193e57bb80c2",
   "metadata": {},
   "source": [
    "### Conclusion\n",
    "<i>After completing this notebook, it is clear to me that there are many advantages to using a quantum computer over a classical computer and vice-versa. The implementation of Deutsch's algorithm with Qiskit really opened my eyes in regards to the efficiency of a quantum computer. Although the example above may not seem too complicated, a classical computer would have had to run the function twice to figure out if the function was <b>constant</b> or <b>balanced</b>. The difference in time would be miniscule in this scenario between a quantum and classical computer, but if the amount of inputs exponentially grew so would the amount of times a classical computer would have to run the function. The same is not true for the quantum computer which will still only need to run the function once no matter how many inputs there are</i>"
   ]
  },
  {
   "cell_type": "markdown",
   "id": "93d707c6-7abe-4187-a17d-f50f31f57b86",
   "metadata": {
    "tags": []
   },
   "source": [
    "## References\n",
    "1. Quantum Computing https://en.wikipedia.org/wiki/Quantum_computing\n",
    "2. Superposition https://en.wikipedia.org/wiki/Quantum_superposition\n",
    "3. Entanglement https://en.wikipedia.org/wiki/Quantum_entanglement\n",
    "4. Quantum vs Classical Computing https://www.cbinsights.com/research/quantum-computing-classical-computing-comparison-infographic/\n",
    "5. Qubits https://www.quantum-inspire.com/kbase/qubits/\n",
    "6. Hadamard Gate https://www.quantum-inspire.com/kbase/hadamard/\n",
    "7. Identity Gate \n",
    "3. Deutsch's Algorithm with Qiskit https://qiskit.org/textbook/ch-algorithms/deutsch-jozsa.html"
   ]
  },
  {
   "cell_type": "markdown",
   "id": "366919f2-4288-4baf-a9a9-60c60c305aa2",
   "metadata": {},
   "source": [
    "# End\n",
    "\n",
    "***"
   ]
  }
 ],
 "metadata": {
  "kernelspec": {
   "display_name": "Python 3 (ipykernel)",
   "language": "python",
   "name": "python3"
  },
  "language_info": {
   "codemirror_mode": {
    "name": "ipython",
    "version": 3
   },
   "file_extension": ".py",
   "mimetype": "text/x-python",
   "name": "python",
   "nbconvert_exporter": "python",
   "pygments_lexer": "ipython3",
   "version": "3.9.7"
  }
 },
 "nbformat": 4,
 "nbformat_minor": 5
}
