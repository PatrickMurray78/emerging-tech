{
 "cells": [
  {
   "cell_type": "markdown",
   "id": "26590a33-5fdd-469e-a4df-36c0cb96c8e0",
   "metadata": {},
   "source": [
    "# Square Roots\n",
    "\n",
    "***"
   ]
  },
  {
   "cell_type": "markdown",
   "id": "b92706c3-f8b0-4a83-a4df-87b57e7bcf42",
   "metadata": {},
   "source": [
    "<br>\n",
    "\n",
    "## Integer square roots with squares\n",
    "\n",
    "***"
   ]
  },
  {
   "cell_type": "code",
   "execution_count": 1,
   "id": "dd1ba1a9-5dd2-499e-8d26-345efa950747",
   "metadata": {},
   "outputs": [],
   "source": [
    "x = 225"
   ]
  },
  {
   "cell_type": "code",
   "execution_count": 2,
   "id": "7b28f443-36f7-49df-9cc4-fa72d34223ff",
   "metadata": {},
   "outputs": [
    {
     "name": "stdout",
     "output_type": "stream",
     "text": [
      "15\n"
     ]
    }
   ],
   "source": [
    "# Loop through values (i) from 0 tp x.\n",
    "for i in range(x):\n",
    "    # Check if i squared is equal to x.\n",
    "    if (i**2) - x == 0:\n",
    "        # Print the square root\n",
    "        print(i)\n",
    "        # Finish\n",
    "        break"
   ]
  },
  {
   "cell_type": "code",
   "execution_count": 3,
   "id": "bb192947-61aa-4887-8d80-a03a5a333b8f",
   "metadata": {},
   "outputs": [],
   "source": [
    "x = 196"
   ]
  },
  {
   "cell_type": "code",
   "execution_count": 4,
   "id": "438ed149-953c-4e46-93fa-571a1bd3f231",
   "metadata": {},
   "outputs": [
    {
     "name": "stdout",
     "output_type": "stream",
     "text": [
      "14\n"
     ]
    }
   ],
   "source": [
    "# Loop through values (i) from 0 to x.\n",
    "for i in range(x):\n",
    "    # Check if i squared is equal to x.\n",
    "    if (i**2) - x == 0:\n",
    "        # Print the square root\n",
    "        print(i)\n",
    "        # Finish\n",
    "        break"
   ]
  },
  {
   "cell_type": "code",
   "execution_count": 5,
   "id": "dd091408-9fb0-4ea0-895f-47dc4523e984",
   "metadata": {},
   "outputs": [],
   "source": [
    "x = 200"
   ]
  },
  {
   "cell_type": "code",
   "execution_count": 6,
   "id": "eca087ae-eb5f-433a-a55b-6720bbee1f78",
   "metadata": {},
   "outputs": [],
   "source": [
    "# Loop through values (i) from 0 to x.\n",
    "for i in range(x):\n",
    "    # Check if i squared is equal to x.\n",
    "    if (i**2) - x == 0:\n",
    "        # Print the square root\n",
    "        print(i)\n",
    "        # Finish\n",
    "        break"
   ]
  },
  {
   "cell_type": "markdown",
   "id": "151aaa87-362c-4bfb-abb0-e12905e8059f",
   "metadata": {},
   "source": [
    "<br>\n",
    "\n",
    "## Non-Integer Square Roots\n",
    "\n",
    "***"
   ]
  },
  {
   "cell_type": "code",
   "execution_count": 7,
   "id": "c5638bc6-7a38-4f5c-bf30-ad364ae2659a",
   "metadata": {},
   "outputs": [],
   "source": [
    "import numpy as np"
   ]
  },
  {
   "cell_type": "code",
   "execution_count": 8,
   "id": "c90e77a2-ce67-451c-992d-2106a617ed69",
   "metadata": {},
   "outputs": [],
   "source": [
    "x = 200"
   ]
  },
  {
   "cell_type": "code",
   "execution_count": 9,
   "id": "b0296337-d10c-44f0-bb02-466e8c82313b",
   "metadata": {},
   "outputs": [],
   "source": [
    "increment = 0.0001"
   ]
  },
  {
   "cell_type": "code",
   "execution_count": 10,
   "id": "ddb9ac23-8888-48ab-88a0-ad1823908d29",
   "metadata": {},
   "outputs": [],
   "source": [
    "# Loop through values (i) from 0 to x.\n",
    "for i in np.arange(0.0, x, increment):\n",
    "    # Check if i squared is equal to x.\n",
    "    if (i**2) - x == 0:\n",
    "        # Print the square root\n",
    "        print(i)\n",
    "        # Finish\n",
    "        break"
   ]
  },
  {
   "cell_type": "code",
   "execution_count": 11,
   "id": "06e2478e-b144-4845-8ad9-6cd6307c2dc1",
   "metadata": {},
   "outputs": [],
   "source": [
    "x = 200"
   ]
  },
  {
   "cell_type": "code",
   "execution_count": 12,
   "id": "5cb38392-f2b3-45e8-a0ae-8bcc3d6e096b",
   "metadata": {},
   "outputs": [],
   "source": [
    "increment = 0.0001"
   ]
  },
  {
   "cell_type": "code",
   "execution_count": 13,
   "id": "334303b4-23c0-4dfb-9c1b-ea90b78f9a26",
   "metadata": {},
   "outputs": [
    {
     "name": "stdout",
     "output_type": "stream",
     "text": [
      "14.1418\n",
      "No iterations: 141419\n"
     ]
    }
   ],
   "source": [
    "# Track number of iterations.\n",
    "no_iter = 0\n",
    "\n",
    "# Loop through values (i) from 0 to x.\n",
    "for i in np.arange(0.0, x, increment):\n",
    "    no_iter += 1\n",
    "    # Check if i squared is equal to x.\n",
    "    if abs((i**2) - x) <= 0.01:\n",
    "        # Print the square root\n",
    "        print(i)\n",
    "        # Finish\n",
    "        break\n",
    "\n",
    "# Show number of iterations.\n",
    "print(f\"No iterations: {no_iter}\")"
   ]
  },
  {
   "cell_type": "code",
   "execution_count": 14,
   "id": "01c07555-57fe-4ba5-a6a0-6328efff151b",
   "metadata": {},
   "outputs": [
    {
     "data": {
      "text/plain": [
       "199.99050724"
      ]
     },
     "execution_count": 14,
     "metadata": {},
     "output_type": "execute_result"
    }
   ],
   "source": [
    "14.1418**2"
   ]
  },
  {
   "cell_type": "markdown",
   "id": "aee25676-62ad-4877-965b-b106ed338b23",
   "metadata": {},
   "source": [
    "<br>\n",
    "\n",
    "## The Square Root of 2\n",
    "\n",
    "***"
   ]
  },
  {
   "cell_type": "markdown",
   "id": "2632e003-7633-42c0-8616-d1a89897c9eb",
   "metadata": {},
   "source": [
    "$ \\sqrt{200} = \\sqrt{2(100)} = \\sqrt{2}\\sqrt{100} = 10\\sqrt{2} $"
   ]
  },
  {
   "cell_type": "markdown",
   "id": "ee5b7bc3-5e6a-4e2c-957f-17279e626129",
   "metadata": {},
   "source": [
    "$ \\sqrt{2} \\neq \\frac{a}{b} $"
   ]
  },
  {
   "cell_type": "code",
   "execution_count": 15,
   "id": "f79180bf-7ef5-4c0e-aef5-1b1adb6c332d",
   "metadata": {},
   "outputs": [
    {
     "data": {
      "text/plain": [
       "1.4142135623730951"
      ]
     },
     "execution_count": 15,
     "metadata": {},
     "output_type": "execute_result"
    }
   ],
   "source": [
    "np.sqrt(2)"
   ]
  },
  {
   "cell_type": "markdown",
   "id": "255d5781-bba8-4a50-90c7-899f75660c7e",
   "metadata": {},
   "source": [
    "<br>\n",
    "\n",
    "## Newton's Method\n",
    "https://tour.golang.org/flowcontrol/8\n",
    "***"
   ]
  },
  {
   "cell_type": "code",
   "execution_count": 16,
   "id": "258c3f7a-3c24-4db4-82a1-ce85a806623b",
   "metadata": {},
   "outputs": [],
   "source": [
    "# We're looking for the square root of x.\n",
    "x = 200"
   ]
  },
  {
   "cell_type": "code",
   "execution_count": 17,
   "id": "c423e118-4db3-4b2b-9e5a-2512fa4ef3c4",
   "metadata": {},
   "outputs": [
    {
     "name": "stdout",
     "output_type": "stream",
     "text": [
      "14.142135968022693\n",
      "No iterations: 6\n"
     ]
    }
   ],
   "source": [
    "# Initial guess.\n",
    "z = 100\n",
    "\n",
    "# Track number of iterations.\n",
    "no_iter = 0\n",
    "\n",
    "# Loop until we get a good approx.\n",
    "while abs(z**2 - x) > 0.00001:\n",
    "    no_iter += 1\n",
    "    z = z - ((z**2 - x) / (2 * z))\n",
    "    \n",
    "# Show the result.\n",
    "print(z)\n",
    "\n",
    "# Show number of iterations.\n",
    "print(f\"No iterations: {no_iter}\")"
   ]
  },
  {
   "cell_type": "markdown",
   "id": "9d23c50b-7280-4a08-95bd-4d5d7972b128",
   "metadata": {},
   "source": [
    "<br>\n",
    "\n",
    "## Why?\n",
    "\n",
    "***"
   ]
  },
  {
   "cell_type": "markdown",
   "id": "1fdd770a-8d23-472b-b687-0fd3366e9654",
   "metadata": {},
   "source": [
    "$ f(z) = z^2 - x $\n",
    "\n",
    "$ f'(z) = 2z $"
   ]
  },
  {
   "cell_type": "code",
   "execution_count": 18,
   "id": "7f41f519-7749-40aa-a1cf-07c1c0e76685",
   "metadata": {},
   "outputs": [],
   "source": [
    "import matplotlib.pyplot as plt\n",
    "\n",
    "plt.rcParams[\"figure.figsize\"] = (16, 8)"
   ]
  },
  {
   "cell_type": "code",
   "execution_count": 19,
   "id": "f2b3d418-fa72-4850-b9d8-0ea3baf8ff90",
   "metadata": {},
   "outputs": [
    {
     "data": {
      "text/plain": [
       "<matplotlib.legend.Legend at 0x115d4298>"
      ]
     },
     "execution_count": 19,
     "metadata": {},
     "output_type": "execute_result"
    },
    {
     "data": {
      "image/png": "[encoded data removed]",
      "text/plain": [
       "<Figure size 1152x576 with 1 Axes>"
      ]
     },
     "metadata": {
      "needs_background": "light"
     },
     "output_type": "display_data"
    }
   ],
   "source": [
    "fig, ax = plt.subplots()\n",
    "\n",
    "x = 200\n",
    "z = np.linspace(-20.0, 20.0, 1000)\n",
    "\n",
    "ax.plot(z, np.zeros(z.size), 'k:', label='$x$-axis')\n",
    "ax.plot(z, z**2 - x, label='$z^2 - x$')\n",
    "ax.set_xlabel('z')\n",
    "ax.legend()"
   ]
  },
  {
   "cell_type": "code",
   "execution_count": 20,
   "id": "5234fe3d-f59d-43f9-9f7d-d423b3b4076c",
   "metadata": {},
   "outputs": [
    {
     "data": {
      "text/plain": [
       "<matplotlib.legend.Legend at 0x1296c058>"
      ]
     },
     "execution_count": 20,
     "metadata": {},
     "output_type": "execute_result"
    },
    {
     "data": {
      "image/png": "[encoded data removed]",
      "text/plain": [
       "<Figure size 1152x576 with 1 Axes>"
      ]
     },
     "metadata": {
      "needs_background": "light"
     },
     "output_type": "display_data"
    }
   ],
   "source": [
    "fig, ax = plt.subplots()\n",
    "\n",
    "x = 200\n",
    "z = np.linspace(10.0, 20.0, 1000)\n",
    "\n",
    "ax.plot(z, z - ((z**2 - x) / (2 * z)), label='$z - ((z^2 - x) / 2z)$')\n",
    "ax.set_xlabel('z')\n",
    "ax.legend()"
   ]
  }
 ],
 "metadata": {
  "kernelspec": {
   "display_name": "Python 3 (ipykernel)",
   "language": "python",
   "name": "python3"
  },
  "language_info": {
   "codemirror_mode": {
    "name": "ipython",
    "version": 3
   },
   "file_extension": ".py",
   "mimetype": "text/x-python",
   "name": "python",
   "nbconvert_exporter": "python",
   "pygments_lexer": "ipython3",
   "version": "3.9.0"
  }
 },
 "nbformat": 4,
 "nbformat_minor": 5
}
