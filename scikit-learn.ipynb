{
 "cells": [
  {
   "cell_type": "markdown",
   "id": "d5ad4569-6f88-4013-9713-aae780c8461b",
   "metadata": {},
   "source": [
    "# Scikit-Learn\n",
    "\n",
    "***"
   ]
  },
  {
   "cell_type": "markdown",
   "id": "98e2e5d9-17cd-4545-8856-178530def720",
   "metadata": {},
   "source": [
    "This notebook provides an clear and concise overview of the [scikit-learn python library](https://scikit-learn.org/stable/).\n",
    "\n",
    "Scikit-Learn is the most useful and robust library for machine learning in Python. It provides a selection of efficient tools for machine learning and statistical modeling including classification, regression, clustering and dimensionality reduction via a consistence interface in Python."
   ]
  },
  {
   "cell_type": "code",
   "execution_count": null,
   "id": "4c43ae46-ed21-4427-a4a8-fedb93cfd015",
   "metadata": {},
   "outputs": [],
   "source": []
  }
 ],
 "metadata": {
  "kernelspec": {
   "display_name": "Python 3 (ipykernel)",
   "language": "python",
   "name": "python3"
  },
  "language_info": {
   "codemirror_mode": {
    "name": "ipython",
    "version": 3
   },
   "file_extension": ".py",
   "mimetype": "text/x-python",
   "name": "python",
   "nbconvert_exporter": "python",
   "pygments_lexer": "ipython3",
   "version": "3.9.0"
  }
 },
 "nbformat": 4,
 "nbformat_minor": 5
}
